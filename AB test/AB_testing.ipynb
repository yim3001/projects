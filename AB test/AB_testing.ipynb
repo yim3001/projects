{
 "cells": [
  {
   "cell_type": "markdown",
   "metadata": {},
   "source": [
    "# AB Testing "
   ]
  },
  {
   "cell_type": "code",
   "execution_count": 39,
   "metadata": {},
   "outputs": [],
   "source": [
    "import pandas as pd\n",
    "import statsmodels.stats.api as sms\n",
    "from scipy.stats import shapiro, levene, mannwhitneyu"
   ]
  },
  {
   "cell_type": "markdown",
   "metadata": {},
   "source": [
    "## Preprocessing"
   ]
  },
  {
   "cell_type": "code",
   "execution_count": 40,
   "metadata": {},
   "outputs": [
    {
     "data": {
      "text/html": [
       "<div>\n",
       "<style scoped>\n",
       "    .dataframe tbody tr th:only-of-type {\n",
       "        vertical-align: middle;\n",
       "    }\n",
       "\n",
       "    .dataframe tbody tr th {\n",
       "        vertical-align: top;\n",
       "    }\n",
       "\n",
       "    .dataframe thead th {\n",
       "        text-align: right;\n",
       "    }\n",
       "</style>\n",
       "<table border=\"1\" class=\"dataframe\">\n",
       "  <thead>\n",
       "    <tr style=\"text-align: right;\">\n",
       "      <th></th>\n",
       "      <th>user_id</th>\n",
       "      <th>timestamp</th>\n",
       "      <th>group</th>\n",
       "      <th>landing_page</th>\n",
       "      <th>converted</th>\n",
       "    </tr>\n",
       "  </thead>\n",
       "  <tbody>\n",
       "    <tr>\n",
       "      <th>0</th>\n",
       "      <td>851104</td>\n",
       "      <td>11:48.6</td>\n",
       "      <td>control</td>\n",
       "      <td>old_page</td>\n",
       "      <td>0</td>\n",
       "    </tr>\n",
       "    <tr>\n",
       "      <th>1</th>\n",
       "      <td>804228</td>\n",
       "      <td>01:45.2</td>\n",
       "      <td>control</td>\n",
       "      <td>old_page</td>\n",
       "      <td>0</td>\n",
       "    </tr>\n",
       "    <tr>\n",
       "      <th>2</th>\n",
       "      <td>661590</td>\n",
       "      <td>55:06.2</td>\n",
       "      <td>treatment</td>\n",
       "      <td>new_page</td>\n",
       "      <td>0</td>\n",
       "    </tr>\n",
       "    <tr>\n",
       "      <th>3</th>\n",
       "      <td>853541</td>\n",
       "      <td>28:03.1</td>\n",
       "      <td>treatment</td>\n",
       "      <td>new_page</td>\n",
       "      <td>0</td>\n",
       "    </tr>\n",
       "    <tr>\n",
       "      <th>4</th>\n",
       "      <td>864975</td>\n",
       "      <td>52:26.2</td>\n",
       "      <td>control</td>\n",
       "      <td>old_page</td>\n",
       "      <td>1</td>\n",
       "    </tr>\n",
       "  </tbody>\n",
       "</table>\n",
       "</div>"
      ],
      "text/plain": [
       "   user_id timestamp      group landing_page  converted\n",
       "0   851104   11:48.6    control     old_page          0\n",
       "1   804228   01:45.2    control     old_page          0\n",
       "2   661590   55:06.2  treatment     new_page          0\n",
       "3   853541   28:03.1  treatment     new_page          0\n",
       "4   864975   52:26.2    control     old_page          1"
      ]
     },
     "execution_count": 40,
     "metadata": {},
     "output_type": "execute_result"
    }
   ],
   "source": [
    "#### Load dataset\n",
    "data = pd.read_csv('ab_data.csv')\n",
    "data.head()"
   ]
  },
  {
   "cell_type": "code",
   "execution_count": 41,
   "metadata": {},
   "outputs": [
    {
     "name": "stdout",
     "output_type": "stream",
     "text": [
      "<class 'pandas.core.frame.DataFrame'>\n",
      "RangeIndex: 294480 entries, 0 to 294479\n",
      "Data columns (total 5 columns):\n",
      " #   Column        Non-Null Count   Dtype \n",
      "---  ------        --------------   ----- \n",
      " 0   user_id       294480 non-null  int64 \n",
      " 1   timestamp     294480 non-null  object\n",
      " 2   group         294480 non-null  object\n",
      " 3   landing_page  294480 non-null  object\n",
      " 4   converted     294480 non-null  int64 \n",
      "dtypes: int64(2), object(3)\n",
      "memory usage: 11.2+ MB\n"
     ]
    }
   ],
   "source": [
    "#### Check format\n",
    "data.info()"
   ]
  },
  {
   "cell_type": "code",
   "execution_count": 42,
   "metadata": {},
   "outputs": [
    {
     "name": "stdout",
     "output_type": "stream",
     "text": [
      "user_id\n",
      "[851104 804228 661590 ... 715931 759899 643532]\n",
      "timestamp\n",
      "['11:48.6' '01:45.2' '55:06.2' ... '40:24.5' '20:29.0' '40:24.5']\n",
      "group\n",
      "['control' 'control' 'treatment' ... 'treatment' 'treatment' 'treatment']\n",
      "landing_page\n",
      "['old_page' 'old_page' 'new_page' ... 'new_page' 'new_page' 'new_page']\n",
      "converted\n",
      "[0 0 0 ... 0 0 0]\n"
     ]
    }
   ],
   "source": [
    "#### Check values \n",
    "for x in data.columns: \n",
    "    print(x)\n",
    "    print(data[x].values)"
   ]
  },
  {
   "cell_type": "code",
   "execution_count": 43,
   "metadata": {},
   "outputs": [
    {
     "data": {
      "text/plain": [
       "user_id         290585\n",
       "timestamp        35993\n",
       "group                2\n",
       "landing_page         2\n",
       "converted            2\n",
       "dtype: int64"
      ]
     },
     "execution_count": 43,
     "metadata": {},
     "output_type": "execute_result"
    }
   ],
   "source": [
    "#### Check unique values\n",
    "data.apply(lambda x: x.nunique())"
   ]
  },
  {
   "cell_type": "code",
   "execution_count": 44,
   "metadata": {},
   "outputs": [
    {
     "data": {
      "text/plain": [
       "user_id         0\n",
       "timestamp       0\n",
       "group           0\n",
       "landing_page    0\n",
       "converted       0\n",
       "dtype: int64"
      ]
     },
     "execution_count": 44,
     "metadata": {},
     "output_type": "execute_result"
    }
   ],
   "source": [
    "#### Check null\n",
    "data.isnull().sum()"
   ]
  },
  {
   "cell_type": "code",
   "execution_count": 45,
   "metadata": {},
   "outputs": [
    {
     "data": {
      "text/plain": [
       "2656      698120\n",
       "2893      773192\n",
       "7500      899953\n",
       "8036      790934\n",
       "10218     633793\n",
       "           ...  \n",
       "294309    787083\n",
       "294328    641570\n",
       "294331    689637\n",
       "294355    744456\n",
       "294478    759899\n",
       "Name: user_id, Length: 3895, dtype: int64"
      ]
     },
     "execution_count": 45,
     "metadata": {},
     "output_type": "execute_result"
    }
   ],
   "source": [
    "#### Check duplicates\n",
    "data[data['user_id'].duplicated()]['user_id'] # user_id 3895개 중복"
   ]
  },
  {
   "cell_type": "code",
   "execution_count": 46,
   "metadata": {},
   "outputs": [
    {
     "data": {
      "text/html": [
       "<div>\n",
       "<style scoped>\n",
       "    .dataframe tbody tr th:only-of-type {\n",
       "        vertical-align: middle;\n",
       "    }\n",
       "\n",
       "    .dataframe tbody tr th {\n",
       "        vertical-align: top;\n",
       "    }\n",
       "\n",
       "    .dataframe thead th {\n",
       "        text-align: right;\n",
       "    }\n",
       "</style>\n",
       "<table border=\"1\" class=\"dataframe\">\n",
       "  <thead>\n",
       "    <tr style=\"text-align: right;\">\n",
       "      <th></th>\n",
       "      <th>user_id</th>\n",
       "      <th>timestamp</th>\n",
       "      <th>group</th>\n",
       "      <th>landing_page</th>\n",
       "      <th>converted</th>\n",
       "    </tr>\n",
       "  </thead>\n",
       "  <tbody>\n",
       "    <tr>\n",
       "      <th>988</th>\n",
       "      <td>698120</td>\n",
       "      <td>09:37.5</td>\n",
       "      <td>control</td>\n",
       "      <td>new_page</td>\n",
       "      <td>0</td>\n",
       "    </tr>\n",
       "    <tr>\n",
       "      <th>2656</th>\n",
       "      <td>698120</td>\n",
       "      <td>13:42.6</td>\n",
       "      <td>control</td>\n",
       "      <td>old_page</td>\n",
       "      <td>0</td>\n",
       "    </tr>\n",
       "  </tbody>\n",
       "</table>\n",
       "</div>"
      ],
      "text/plain": [
       "      user_id timestamp    group landing_page  converted\n",
       "988    698120   09:37.5  control     new_page          0\n",
       "2656   698120   13:42.6  control     old_page          0"
      ]
     },
     "execution_count": 46,
     "metadata": {},
     "output_type": "execute_result"
    }
   ],
   "source": [
    "data[data['user_id']==698120] # 각 그룹간에 독립적인 실험 조건을 유지해야 함."
   ]
  },
  {
   "cell_type": "code",
   "execution_count": 47,
   "metadata": {},
   "outputs": [
    {
     "name": "stdout",
     "output_type": "stream",
     "text": [
      "(294480, 5)\n",
      "(286690, 5)\n"
     ]
    }
   ],
   "source": [
    "#### Remove duplicates\n",
    "print(data.shape)\n",
    "df = data.drop_duplicates(subset='user_id', keep=False) # keep=False: 중복되는 user_id 모두 삭제(기존 값도). 따라서 3895*2=7790개가 삭제됨.\n",
    "print(df.shape)"
   ]
  },
  {
   "cell_type": "code",
   "execution_count": 48,
   "metadata": {},
   "outputs": [
    {
     "data": {
      "text/html": [
       "<div>\n",
       "<style scoped>\n",
       "    .dataframe tbody tr th:only-of-type {\n",
       "        vertical-align: middle;\n",
       "    }\n",
       "\n",
       "    .dataframe tbody tr th {\n",
       "        vertical-align: top;\n",
       "    }\n",
       "\n",
       "    .dataframe thead th {\n",
       "        text-align: right;\n",
       "    }\n",
       "</style>\n",
       "<table border=\"1\" class=\"dataframe\">\n",
       "  <thead>\n",
       "    <tr style=\"text-align: right;\">\n",
       "      <th></th>\n",
       "      <th>user_id</th>\n",
       "      <th>timestamp</th>\n",
       "      <th>group</th>\n",
       "      <th>landing_page</th>\n",
       "      <th>converted</th>\n",
       "    </tr>\n",
       "  </thead>\n",
       "  <tbody>\n",
       "  </tbody>\n",
       "</table>\n",
       "</div>"
      ],
      "text/plain": [
       "Empty DataFrame\n",
       "Columns: [user_id, timestamp, group, landing_page, converted]\n",
       "Index: []"
      ]
     },
     "execution_count": 48,
     "metadata": {},
     "output_type": "execute_result"
    }
   ],
   "source": [
    "df[df['user_id']==698120]"
   ]
  },
  {
   "cell_type": "code",
   "execution_count": 49,
   "metadata": {},
   "outputs": [
    {
     "data": {
      "text/plain": [
       "group      landing_page\n",
       "treatment  new_page        143397\n",
       "control    old_page        143293\n",
       "dtype: int64"
      ]
     },
     "execution_count": 49,
     "metadata": {},
     "output_type": "execute_result"
    }
   ],
   "source": [
    "df[['group', 'landing_page']].value_counts()"
   ]
  },
  {
   "cell_type": "markdown",
   "metadata": {},
   "source": [
    "#### Convert Timestamp\n",
    "- Convert Timestamps to Total Seconds"
   ]
  },
  {
   "cell_type": "code",
   "execution_count": 50,
   "metadata": {},
   "outputs": [
    {
     "data": {
      "text/plain": [
       "0    11:48.6\n",
       "Name: timestamp, dtype: object"
      ]
     },
     "execution_count": 50,
     "metadata": {},
     "output_type": "execute_result"
    }
   ],
   "source": [
    "df['timestamp'].head(1)"
   ]
  },
  {
   "cell_type": "code",
   "execution_count": 51,
   "metadata": {},
   "outputs": [
    {
     "name": "stdout",
     "output_type": "stream",
     "text": [
      "        user_id timestamp      group landing_page  converted  total_seconds\n",
      "0        851104   11:48.6    control     old_page          0          708.6\n",
      "1        804228   01:45.2    control     old_page          0          105.2\n",
      "2        661590   55:06.2  treatment     new_page          0         3306.2\n",
      "3        853541   28:03.1  treatment     new_page          0         1683.1\n",
      "4        864975   52:26.2    control     old_page          1         3146.2\n",
      "...         ...       ...        ...          ...        ...            ...\n",
      "294474   945152   51:57.1    control     old_page          0         3117.1\n",
      "294475   734608   45:03.4    control     old_page          0         2703.4\n",
      "294476   697314   20:29.0    control     old_page          0         1229.0\n",
      "294477   715931   40:24.5  treatment     new_page          0         2424.5\n",
      "294479   643532   40:24.5  treatment     new_page          0         2424.5\n",
      "\n",
      "[286690 rows x 6 columns]\n"
     ]
    },
    {
     "name": "stderr",
     "output_type": "stream",
     "text": [
      "C:\\Users\\eunseok\\AppData\\Local\\Temp\\ipykernel_22964\\3764652170.py:8: SettingWithCopyWarning: \n",
      "A value is trying to be set on a copy of a slice from a DataFrame.\n",
      "Try using .loc[row_indexer,col_indexer] = value instead\n",
      "\n",
      "See the caveats in the documentation: https://pandas.pydata.org/pandas-docs/stable/user_guide/indexing.html#returning-a-view-versus-a-copy\n",
      "  df['total_seconds'] = df['timestamp'].apply(convert_to_seconds)\n"
     ]
    }
   ],
   "source": [
    "# Function to convert MM:SS.S to total seconds. (분:초 -> 초)로 바꿔주기\n",
    "def convert_to_seconds(timestamp):\n",
    "    if pd.isnull(timestamp):  # Handle missing values\n",
    "        return None\n",
    "    minutes, seconds = map(float, timestamp.split(':'))\n",
    "    return minutes * 60 + seconds\n",
    "\n",
    "df['total_seconds'] = df['timestamp'].apply(convert_to_seconds)\n",
    "\n",
    "print(df)"
   ]
  },
  {
   "cell_type": "code",
   "execution_count": 52,
   "metadata": {},
   "outputs": [
    {
     "data": {
      "text/plain": [
       "0"
      ]
     },
     "execution_count": 52,
     "metadata": {},
     "output_type": "execute_result"
    }
   ],
   "source": [
    "df['total_seconds'].isnull().sum()"
   ]
  },
  {
   "cell_type": "markdown",
   "metadata": {},
   "source": [
    "## EDA"
   ]
  },
  {
   "cell_type": "code",
   "execution_count": 53,
   "metadata": {},
   "outputs": [
    {
     "data": {
      "text/plain": [
       "Index(['user_id', 'timestamp', 'group', 'landing_page', 'converted',\n",
       "       'total_seconds'],\n",
       "      dtype='object')"
      ]
     },
     "execution_count": 53,
     "metadata": {},
     "output_type": "execute_result"
    }
   ],
   "source": [
    "df.columns"
   ]
  },
  {
   "cell_type": "code",
   "execution_count": 54,
   "metadata": {},
   "outputs": [
    {
     "data": {
      "text/html": [
       "<div>\n",
       "<style scoped>\n",
       "    .dataframe tbody tr th:only-of-type {\n",
       "        vertical-align: middle;\n",
       "    }\n",
       "\n",
       "    .dataframe tbody tr th {\n",
       "        vertical-align: top;\n",
       "    }\n",
       "\n",
       "    .dataframe thead th {\n",
       "        text-align: right;\n",
       "    }\n",
       "</style>\n",
       "<table border=\"1\" class=\"dataframe\">\n",
       "  <thead>\n",
       "    <tr style=\"text-align: right;\">\n",
       "      <th></th>\n",
       "      <th>user_id</th>\n",
       "      <th>converted</th>\n",
       "      <th>total_seconds</th>\n",
       "    </tr>\n",
       "  </thead>\n",
       "  <tbody>\n",
       "    <tr>\n",
       "      <th>count</th>\n",
       "      <td>286690.000000</td>\n",
       "      <td>286690.000000</td>\n",
       "      <td>286690.000000</td>\n",
       "    </tr>\n",
       "    <tr>\n",
       "      <th>mean</th>\n",
       "      <td>788036.057184</td>\n",
       "      <td>0.119450</td>\n",
       "      <td>1803.054213</td>\n",
       "    </tr>\n",
       "    <tr>\n",
       "      <th>std</th>\n",
       "      <td>91239.396095</td>\n",
       "      <td>0.324317</td>\n",
       "      <td>1038.167339</td>\n",
       "    </tr>\n",
       "    <tr>\n",
       "      <th>min</th>\n",
       "      <td>630000.000000</td>\n",
       "      <td>0.000000</td>\n",
       "      <td>0.000000</td>\n",
       "    </tr>\n",
       "    <tr>\n",
       "      <th>25%</th>\n",
       "      <td>709036.250000</td>\n",
       "      <td>0.000000</td>\n",
       "      <td>904.825000</td>\n",
       "    </tr>\n",
       "    <tr>\n",
       "      <th>50%</th>\n",
       "      <td>788059.500000</td>\n",
       "      <td>0.000000</td>\n",
       "      <td>1803.000000</td>\n",
       "    </tr>\n",
       "    <tr>\n",
       "      <th>75%</th>\n",
       "      <td>866998.750000</td>\n",
       "      <td>0.000000</td>\n",
       "      <td>2701.900000</td>\n",
       "    </tr>\n",
       "    <tr>\n",
       "      <th>max</th>\n",
       "      <td>945999.000000</td>\n",
       "      <td>1.000000</td>\n",
       "      <td>3599.900000</td>\n",
       "    </tr>\n",
       "  </tbody>\n",
       "</table>\n",
       "</div>"
      ],
      "text/plain": [
       "             user_id      converted  total_seconds\n",
       "count  286690.000000  286690.000000  286690.000000\n",
       "mean   788036.057184       0.119450    1803.054213\n",
       "std     91239.396095       0.324317    1038.167339\n",
       "min    630000.000000       0.000000       0.000000\n",
       "25%    709036.250000       0.000000     904.825000\n",
       "50%    788059.500000       0.000000    1803.000000\n",
       "75%    866998.750000       0.000000    2701.900000\n",
       "max    945999.000000       1.000000    3599.900000"
      ]
     },
     "execution_count": 54,
     "metadata": {},
     "output_type": "execute_result"
    }
   ],
   "source": [
    "df.describe()"
   ]
  },
  {
   "cell_type": "markdown",
   "metadata": {},
   "source": [
    "### Timestamp"
   ]
  },
  {
   "cell_type": "markdown",
   "metadata": {},
   "source": [
    "#### Distribution of total_seconds"
   ]
  },
  {
   "cell_type": "code",
   "execution_count": 55,
   "metadata": {},
   "outputs": [
    {
     "data": {
      "image/png": "[encoded data removed]",
      "text/plain": [
       "<Figure size 800x600 with 1 Axes>"
      ]
     },
     "metadata": {},
     "output_type": "display_data"
    }
   ],
   "source": [
    "import matplotlib.pyplot as plt\n",
    "\n",
    "# Plot the distribution of total seconds\n",
    "plt.figure(figsize=(8, 6))\n",
    "plt.hist(df['total_seconds'], bins=30, alpha=0.7, edgecolor='black')\n",
    "plt.title('Distribution of Total Seconds')\n",
    "plt.xlabel('Total Seconds')\n",
    "plt.ylabel('Frequency')\n",
    "plt.ylim(bottom=0) #Change starting point \n",
    "plt.grid(axis='y', linestyle='--', alpha=0.7)\n",
    "plt.show()\n"
   ]
  },
  {
   "cell_type": "markdown",
   "metadata": {},
   "source": [
    "## AB Test\n"
   ]
  },
  {
   "cell_type": "markdown",
   "metadata": {},
   "source": [
    "### Step1: Define the experiment Goals"
   ]
  },
  {
   "cell_type": "markdown",
   "metadata": {},
   "source": [
    "<b>AB Test subject: 페이지 바꾸기</b>\n",
    "- Primary Metric: Conversion rate (column converted). - 전환율\n",
    "- Secondary Metrics: Time spent on the page (total_seconds). - 머무는 시간"
   ]
  },
  {
   "cell_type": "markdown",
   "metadata": {},
   "source": [
    "### Step2: Understand Group"
   ]
  },
  {
   "cell_type": "markdown",
   "metadata": {},
   "source": [
    "#### Distribution of Group"
   ]
  },
  {
   "cell_type": "code",
   "execution_count": 56,
   "metadata": {},
   "outputs": [
    {
     "name": "stdout",
     "output_type": "stream",
     "text": [
      "treatment    0.500181\n",
      "control      0.499819\n",
      "Name: group, dtype: float64\n"
     ]
    }
   ],
   "source": [
    "import pandas as pd\n",
    "group_counts = df['group'].value_counts()\n",
    "group_ratios = group_counts / group_counts.sum()\n",
    "print(group_ratios)"
   ]
  },
  {
   "cell_type": "markdown",
   "metadata": {},
   "source": [
    "#### Distribution of Group & Landing Page"
   ]
  },
  {
   "cell_type": "code",
   "execution_count": 57,
   "metadata": {},
   "outputs": [
    {
     "data": {
      "text/html": [
       "<div>\n",
       "<style scoped>\n",
       "    .dataframe tbody tr th:only-of-type {\n",
       "        vertical-align: middle;\n",
       "    }\n",
       "\n",
       "    .dataframe tbody tr th {\n",
       "        vertical-align: top;\n",
       "    }\n",
       "\n",
       "    .dataframe thead th {\n",
       "        text-align: right;\n",
       "    }\n",
       "</style>\n",
       "<table border=\"1\" class=\"dataframe\">\n",
       "  <thead>\n",
       "    <tr style=\"text-align: right;\">\n",
       "      <th></th>\n",
       "      <th></th>\n",
       "      <th>landing_page</th>\n",
       "    </tr>\n",
       "    <tr>\n",
       "      <th>group</th>\n",
       "      <th>landing_page</th>\n",
       "      <th></th>\n",
       "    </tr>\n",
       "  </thead>\n",
       "  <tbody>\n",
       "    <tr>\n",
       "      <th>control</th>\n",
       "      <th>old_page</th>\n",
       "      <td>143293</td>\n",
       "    </tr>\n",
       "    <tr>\n",
       "      <th>treatment</th>\n",
       "      <th>new_page</th>\n",
       "      <td>143397</td>\n",
       "    </tr>\n",
       "  </tbody>\n",
       "</table>\n",
       "</div>"
      ],
      "text/plain": [
       "                        landing_page\n",
       "group     landing_page              \n",
       "control   old_page            143293\n",
       "treatment new_page            143397"
      ]
     },
     "execution_count": 57,
     "metadata": {},
     "output_type": "execute_result"
    }
   ],
   "source": [
    "df.groupby(['group','landing_page']).agg({'landing_page': lambda x: x.value_counts()})"
   ]
  },
  {
   "cell_type": "code",
   "execution_count": 58,
   "metadata": {},
   "outputs": [
    {
     "data": {
      "text/html": [
       "<div>\n",
       "<style scoped>\n",
       "    .dataframe tbody tr th:only-of-type {\n",
       "        vertical-align: middle;\n",
       "    }\n",
       "\n",
       "    .dataframe tbody tr th {\n",
       "        vertical-align: top;\n",
       "    }\n",
       "\n",
       "    .dataframe thead th {\n",
       "        text-align: right;\n",
       "    }\n",
       "</style>\n",
       "<table border=\"1\" class=\"dataframe\">\n",
       "  <thead>\n",
       "    <tr style=\"text-align: right;\">\n",
       "      <th></th>\n",
       "      <th></th>\n",
       "      <th>landing_page</th>\n",
       "    </tr>\n",
       "    <tr>\n",
       "      <th>group</th>\n",
       "      <th>landing_page</th>\n",
       "      <th></th>\n",
       "    </tr>\n",
       "  </thead>\n",
       "  <tbody>\n",
       "    <tr>\n",
       "      <th>control</th>\n",
       "      <th>old_page</th>\n",
       "      <td>0.499819</td>\n",
       "    </tr>\n",
       "    <tr>\n",
       "      <th>treatment</th>\n",
       "      <th>new_page</th>\n",
       "      <td>0.500181</td>\n",
       "    </tr>\n",
       "  </tbody>\n",
       "</table>\n",
       "</div>"
      ],
      "text/plain": [
       "                        landing_page\n",
       "group     landing_page              \n",
       "control   old_page          0.499819\n",
       "treatment new_page          0.500181"
      ]
     },
     "execution_count": 58,
     "metadata": {},
     "output_type": "execute_result"
    }
   ],
   "source": [
    "df.groupby(['group','landing_page']).agg({'landing_page': lambda x: x.value_counts()/group_counts.sum()})"
   ]
  },
  {
   "cell_type": "markdown",
   "metadata": {},
   "source": [
    "#### Conversion Rate by Landing Page"
   ]
  },
  {
   "cell_type": "code",
   "execution_count": 75,
   "metadata": {},
   "outputs": [
    {
     "data": {
      "text/html": [
       "<div>\n",
       "<style scoped>\n",
       "    .dataframe tbody tr th:only-of-type {\n",
       "        vertical-align: middle;\n",
       "    }\n",
       "\n",
       "    .dataframe tbody tr th {\n",
       "        vertical-align: top;\n",
       "    }\n",
       "\n",
       "    .dataframe thead th {\n",
       "        text-align: right;\n",
       "    }\n",
       "</style>\n",
       "<table border=\"1\" class=\"dataframe\">\n",
       "  <thead>\n",
       "    <tr style=\"text-align: right;\">\n",
       "      <th></th>\n",
       "      <th>landing_page</th>\n",
       "      <th>group</th>\n",
       "      <th>converted</th>\n",
       "    </tr>\n",
       "  </thead>\n",
       "  <tbody>\n",
       "    <tr>\n",
       "      <th>0</th>\n",
       "      <td>new_page</td>\n",
       "      <td>treatment</td>\n",
       "      <td>0.118726</td>\n",
       "    </tr>\n",
       "    <tr>\n",
       "      <th>1</th>\n",
       "      <td>old_page</td>\n",
       "      <td>control</td>\n",
       "      <td>0.120173</td>\n",
       "    </tr>\n",
       "  </tbody>\n",
       "</table>\n",
       "</div>"
      ],
      "text/plain": [
       "  landing_page      group  converted\n",
       "0     new_page  treatment   0.118726\n",
       "1     old_page    control   0.120173"
      ]
     },
     "execution_count": 75,
     "metadata": {},
     "output_type": "execute_result"
    }
   ],
   "source": [
    "df.groupby(['landing_page', 'group'])['converted'].mean().reset_index() # old page의 conversion rate가 약간 더 높음"
   ]
  },
  {
   "cell_type": "code",
   "execution_count": 76,
   "metadata": {},
   "outputs": [
    {
     "data": {
      "image/png": "[encoded data removed]",
      "text/plain": [
       "<Figure size 640x480 with 1 Axes>"
      ]
     },
     "metadata": {},
     "output_type": "display_data"
    }
   ],
   "source": [
    "import seaborn as sns \n",
    "\n",
    "page_conversion = df.groupby(['landing_page', 'group'])['converted'].mean().reset_index()\n",
    "\n",
    "sns.barplot(data=page_conversion, x='landing_page', y='converted', hue='group', palette='coolwarm')\n",
    "plt.title('Conversion Rate by Landing Page')\n",
    "plt.ylabel('Conversion Rate')\n",
    "plt.xlabel('Landing Page')\n",
    "plt.legend(title='Group', loc='upper center')\n",
    "plt.show()"
   ]
  },
  {
   "cell_type": "markdown",
   "metadata": {},
   "source": [
    "#### Conversion rate by Group & Landing Page"
   ]
  },
  {
   "cell_type": "code",
   "execution_count": 77,
   "metadata": {},
   "outputs": [
    {
     "data": {
      "text/html": [
       "<div>\n",
       "<style scoped>\n",
       "    .dataframe tbody tr th:only-of-type {\n",
       "        vertical-align: middle;\n",
       "    }\n",
       "\n",
       "    .dataframe tbody tr th {\n",
       "        vertical-align: top;\n",
       "    }\n",
       "\n",
       "    .dataframe thead th {\n",
       "        text-align: right;\n",
       "    }\n",
       "</style>\n",
       "<table border=\"1\" class=\"dataframe\">\n",
       "  <thead>\n",
       "    <tr style=\"text-align: right;\">\n",
       "      <th></th>\n",
       "      <th></th>\n",
       "      <th>converted</th>\n",
       "    </tr>\n",
       "    <tr>\n",
       "      <th>group</th>\n",
       "      <th>landing_page</th>\n",
       "      <th></th>\n",
       "    </tr>\n",
       "  </thead>\n",
       "  <tbody>\n",
       "    <tr>\n",
       "      <th>control</th>\n",
       "      <th>old_page</th>\n",
       "      <td>0.120173</td>\n",
       "    </tr>\n",
       "    <tr>\n",
       "      <th>treatment</th>\n",
       "      <th>new_page</th>\n",
       "      <td>0.118726</td>\n",
       "    </tr>\n",
       "  </tbody>\n",
       "</table>\n",
       "</div>"
      ],
      "text/plain": [
       "                        converted\n",
       "group     landing_page           \n",
       "control   old_page       0.120173\n",
       "treatment new_page       0.118726"
      ]
     },
     "execution_count": 77,
     "metadata": {},
     "output_type": "execute_result"
    }
   ],
   "source": [
    "df.groupby(['group','landing_page']).agg({'converted': 'mean'})\n"
   ]
  },
  {
   "cell_type": "code",
   "execution_count": 80,
   "metadata": {},
   "outputs": [
    {
     "name": "stdout",
     "output_type": "stream",
     "text": [
      "       Group  Conversion Rate\n",
      "0    control         0.120173\n",
      "1  treatment         0.118726\n"
     ]
    }
   ],
   "source": [
    "conversion_summary = df.groupby('group')['converted'].mean().reset_index()\n",
    "conversion_summary.columns = ['Group', 'Conversion Rate'] # group, converted -> Group, Conversion Rate\n",
    "\n",
    "print(conversion_summary)\n"
   ]
  },
  {
   "cell_type": "code",
   "execution_count": 81,
   "metadata": {},
   "outputs": [
    {
     "data": {
      "image/png": "[encoded data removed]",
      "text/plain": [
       "<Figure size 640x480 with 1 Axes>"
      ]
     },
     "metadata": {},
     "output_type": "display_data"
    }
   ],
   "source": [
    "import seaborn as sns  \n",
    "\n",
    "sns.barplot(data=conversion_summary, x='Group', y='Conversion Rate', palette='viridis')\n",
    "plt.title('Conversion Rate by Group')\n",
    "plt.ylabel('Conversion Rate')\n",
    "plt.xlabel('Group')\n",
    "plt.show()"
   ]
  },
  {
   "cell_type": "markdown",
   "metadata": {},
   "source": [
    "### Step3: Forulate Hypothesis\n",
    "\n",
    "1. Conversion Rate  \n",
    "- <b>H0(Null Hypothesis)</b>: pA = pB; 그룹 간 전환율에는 차이가 없습니다;  \n",
    "이전 페이지(old page)와 새 페이지(new page) 간에 통계적으로 유의미한 차이가 없습니다.\n",
    "- <b>H1(Alternative Hypothesis)</b>: pA ≠ pB; Treatment group은 전환율(conversion rate)이 더 높습니다;  \n",
    "이전 페이지(old page)와 새 페이지(new page) 간에 통계적으로 유의미한 차이가 있습니다.\n",
    "2. Time on Page\n",
    "- <b>H0(Null Hypothesis)</b>: pA = pB; 그룹 간 페이지에 머무는 시간에는 차이가 없습니다;  \n",
    "이전 페이지(old page)와 새 페이지(new page) 간에 통계적으로 유의미한 차이가 없습니다.\n",
    "- <b>H1(Alternative Hypothesis)</b>: pA ≠ pB; Treatment group은 머무는 시간(Total seconds)이 더 깁니다;  \n",
    "이전 페이지(old page)와 새 페이지(new page) 간에 통계적으로 유의미한 차이가 있습니다."
   ]
  },
  {
   "cell_type": "markdown",
   "metadata": {},
   "source": [
    "### Step4: Analyze Metrics"
   ]
  },
  {
   "cell_type": "markdown",
   "metadata": {},
   "source": [
    "#### A: Conversion Rate"
   ]
  },
  {
   "cell_type": "code",
   "execution_count": 124,
   "metadata": {},
   "outputs": [
    {
     "data": {
      "text/plain": [
       "0.0014470000000000038"
      ]
     },
     "execution_count": 124,
     "metadata": {},
     "output_type": "execute_result"
    }
   ],
   "source": [
    "0.120173 - 0.118726"
   ]
  },
  {
   "cell_type": "code",
   "execution_count": 125,
   "metadata": {},
   "outputs": [
    {
     "name": "stdout",
     "output_type": "stream",
     "text": [
      "group\n",
      "control      0.120173\n",
      "treatment    0.118726\n",
      "Name: converted, dtype: float64\n"
     ]
    }
   ],
   "source": [
    "conversion_rates = df.groupby('group')['converted'].mean() # 0.001 -> 0.1% 차이\n",
    "print(conversion_rates)"
   ]
  },
  {
   "cell_type": "markdown",
   "metadata": {},
   "source": [
    "#### B. Time on Landing Page"
   ]
  },
  {
   "cell_type": "code",
   "execution_count": 126,
   "metadata": {},
   "outputs": [
    {
     "name": "stdout",
     "output_type": "stream",
     "text": [
      "group\n",
      "control      1804.832314\n",
      "treatment    1801.277402\n",
      "Name: total_seconds, dtype: float64\n"
     ]
    }
   ],
   "source": [
    "time_metrics = df.groupby('group')['total_seconds'].mean() # 3.55초 차이\n",
    "print(time_metrics)"
   ]
  },
  {
   "cell_type": "markdown",
   "metadata": {},
   "source": [
    "### Step5: Statistical Testing\n",
    "- two proportion Z-Test: 두 그룹의 비율을 비교 검정하기 위해 활용"
   ]
  },
  {
   "cell_type": "markdown",
   "metadata": {},
   "source": [
    "#### A. Test - Conversion Rates"
   ]
  },
  {
   "cell_type": "code",
   "execution_count": 127,
   "metadata": {},
   "outputs": [
    {
     "name": "stdout",
     "output_type": "stream",
     "text": [
      "control 그룹 전환 수: 17220, treatment 그룹 전환 수: 17025\n",
      "control 그룹 수: 143293, treatment 그룹 수: 143397\n",
      "Z-test Statistic: 1.1944850812796501, p-value: 0.232288\n"
     ]
    }
   ],
   "source": [
    "from statsmodels.stats.proportion import proportions_ztest\n",
    "\n",
    "control = df[df['group'] == 'control']['converted']\n",
    "treatment = df[df['group'] == 'treatment']['converted']\n",
    "\n",
    "control_converted = control.sum()\n",
    "treatment_converted = treatment.sum()\n",
    "\n",
    "#Size of group \n",
    "n_control = len(control)\n",
    "n_treatment = len(treatment)\n",
    "\n",
    "print(f'control 그룹 전환 수: {control_converted}, treatment 그룹 전환 수: {treatment_converted}')\n",
    "print(f'control 그룹 수: {n_control}, treatment 그룹 수: {n_treatment}')\n",
    "\n",
    "stat, p_value = proportions_ztest([control_converted, treatment_converted],\n",
    "                                   [n_control, n_treatment])\n",
    "print(f\"Z-test Statistic: {stat}, p-value: {p_value:.6f}\") \n",
    "# 두 그룹 비율 차이가 표준 정규 분포에서 약 1.19 표준편차만큼 떨어져 있음. p-value가 높으므로 귀무가설 유지"
   ]
  },
  {
   "cell_type": "markdown",
   "metadata": {},
   "source": [
    "__Results__: \n",
    "- Z-test: Z-검정 통계량은 관찰된 비율(전환율; conversion rate)의 차이가 표준 오차를 기준으로  \n",
    "귀무 가설(null hypothesis)에서 얼마나 떨어져 있는지를 정량화합니다.  \n",
    "값이 1.194라는 것은 관찰된 차이가 0(집단 간 차이가 없다는 귀무 가설)에서  \n",
    "1.194 표준 오차(standard error) 만큼 떨어져 있음을 나타냅니다.\n",
    "\n",
    "- P-value: p-값은 귀무 가설(null hypothesis; 두 집단 간에 실제 차이가 없다고 가정) 하에서  \n",
    "1.194와 같은 극단적인 검정 통계량(또는 그 이상)을 관찰할 확률을 나타냅니다.  \n",
    "p-값이 0.232라는 것은 관찰된 차이가 우연에 의해 발생할 확률이 23.2%임을 의미하며,  \n",
    "이는 일반적인 기준(ex: 0.05)에서 통계적으로 유의하지 않음을 나타냅니다."
   ]
  },
  {
   "cell_type": "markdown",
   "metadata": {},
   "source": [
    "__Interpretation__:\n",
    "- 귀무가설; Null Hypothesis (H₀): 대조군과 실험군 간의 전환율(conversion rate)에 차이가 없다\n",
    "- 대립 가설; Alternative Hypothesis (H₁): 두 집단 간의 전환율(conversion rate)에 차이가 있다\n",
    "\n",
    "p-value(0.232)가 0.05보다 크기 때문에 귀무 가설(Hull hypothesis)을 기각할 수 없습니다.  \n",
    "이는 실험군(treatment group)이 대조군(control group)에 비해 전환율 측면에서  \n",
    "다르게(더 좋거나 나쁘게) 작동한다고 결론을 내릴 충분한 증거가 없음을 의미합니다.  \n",
    "--> 귀무 가설을 기각하지 못했습니다. 새로운 페이지(new page)와 기존 페이지(old page) 간에  \n",
    "통계적으로 유의미한 차이가 없으므로 이익을 가져오지 못합니다."
   ]
  },
  {
   "cell_type": "markdown",
   "metadata": {},
   "source": [
    "#### B. Test for Time on Page\n",
    "\n"
   ]
  },
  {
   "cell_type": "code",
   "execution_count": 128,
   "metadata": {},
   "outputs": [
    {
     "name": "stdout",
     "output_type": "stream",
     "text": [
      "T-test Statistic: 0.9167220080609694, p-value: 0.359289\n"
     ]
    }
   ],
   "source": [
    "from scipy.stats import ttest_ind\n",
    "\n",
    "control_time = df[df['group'] == 'control']['total_seconds']\n",
    "treatment_time = df[df['group'] == 'treatment']['total_seconds']\n",
    "\n",
    "t_stat, p_value = ttest_ind(control_time, treatment_time)\n",
    "print(f\"T-test Statistic: {t_stat}, p-value: {p_value:.6f}\")\n"
   ]
  },
  {
   "cell_type": "markdown",
   "metadata": {},
   "source": [
    "__Result__: \n",
    "- T-test Statistic: T-검정 통계량: 0.917\n",
    "이 값은 대조군(control)과 실험군(treatment) 간의 평균 차이(랜딩 페이지에서의 평균 시간)가 표준 오차를 기준으로 얼마나 차이가 나는지를 정량화한 것입니다. T-검정 통계량이 0.917이라는 것은 관찰된 차이가 0(Null hypothesis; 귀무 가설: 두 집단 간 차이가 없다는 가정)에서 0.917 표준 오차(stanrad error)만큼 떨어져 있음을 의미합니다.\n",
    "\n",
    "- p-value: p-값: 0.359\n",
    "p-값은 귀무 가설(Null hypothesis) 하에서 0.917과 같은 극단적인 검정 통계량(또는 그 이상)을 관찰할 확률을 나타냅니다. p-값이 0.359라는 것은 total_seconds에서 관찰된 차이가 우연에 의해 발생할 확률이 35.9%임을 의미하며, 이는 일반적인 기준(ex: 0.05)에서 통계적으로 유의미하지 않음을 나타냅니다."
   ]
  },
  {
   "cell_type": "markdown",
   "metadata": {},
   "source": [
    "__Interpretation__: \n",
    "- Null Hypothesis; 귀무가설 (H₀): 대조군(control)과 실험군(treatment) 간의 평균 total_seconds(랜딩 페이지에서 보낸 시간)에 차이가 없다.\n",
    "- Alternative Hypothesis; 대립가설 (H₁): 두 집단 간의 평균 총_seconds에 차이가 있다.\n",
    "- p-값(0.359)이 0.05보다 크기 때문에 귀무 가설(H₀)을 기각할 수 없습니다. 이는 실험이 사용자가 랜딩 페이지에서 보내는 시간에 영향을 미친다는 유의미한 증거가 없음을 의미합니다."
   ]
  },
  {
   "cell_type": "markdown",
   "metadata": {},
   "source": []
  }
 ],
 "metadata": {
  "kernelspec": {
   "display_name": "base",
   "language": "python",
   "name": "python3"
  },
  "language_info": {
   "codemirror_mode": {
    "name": "ipython",
    "version": 3
   },
   "file_extension": ".py",
   "mimetype": "text/x-python",
   "name": "python",
   "nbconvert_exporter": "python",
   "pygments_lexer": "ipython3",
   "version": "3.11.3"
  }
 },
 "nbformat": 4,
 "nbformat_minor": 2
}
