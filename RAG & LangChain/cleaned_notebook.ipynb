{
  "nbformat": 4,
  "nbformat_minor": 0,
  "metadata": {
    "colab": {
      "provenance": [],
      "gpuType": "T4",
      "authorship_tag": "ABX9TyNJHzuOrd2dlJLXDTGnhYqB"
    },
    "kernelspec": {
      "name": "python3",
      "display_name": "Python 3"
    },
    "language_info": {
      "name": "python"
    },
    "accelerator": "GPU"
  },
  "cells": [
    {
      "cell_type": "code",
      "execution_count": null,
      "metadata": {
        "colab": {
          "base_uri": "https://localhost:8080/"
        },
        "id": "7SppUka-g8_V",
        "executionInfo": {
          "status": "ok",
          "timestamp": 1748351841149,
          "user_tz": -540,
          "elapsed": 62144,
          "user": {
            "displayName": "\uc784\uc740\uc11d",
            "userId": "11880229837910021675"
          }
        },
        "outputId": "216b94a0-8087-4f91-8825-86cbb37088ae"
      },
      "outputs": [
        {
          "output_type": "stream",
          "name": "stdout",
          "text": [
            "\u001b[2K   \u001b[90m\u2501\u2501\u2501\u2501\u2501\u2501\u2501\u2501\u2501\u2501\u2501\u2501\u2501\u2501\u2501\u2501\u2501\u2501\u2501\u2501\u2501\u2501\u2501\u2501\u2501\u2501\u2501\u2501\u2501\u2501\u2501\u2501\u2501\u2501\u2501\u2501\u2501\u2501\u2501\u2501\u001b[0m \u001b[32m2.5/2.5 MB\u001b[0m \u001b[31m14.6 MB/s\u001b[0m eta \u001b[36m0:00:00\u001b[0m\n",
            "\u001b[2K   \u001b[90m\u2501\u2501\u2501\u2501\u2501\u2501\u2501\u2501\u2501\u2501\u2501\u2501\u2501\u2501\u2501\u2501\u2501\u2501\u2501\u2501\u2501\u2501\u2501\u2501\u2501\u2501\u2501\u2501\u2501\u2501\u2501\u2501\u2501\u2501\u2501\u2501\u2501\u2501\u2501\u2501\u001b[0m \u001b[32m63.4/63.4 kB\u001b[0m \u001b[31m1.7 MB/s\u001b[0m eta \u001b[36m0:00:00\u001b[0m\n",
            "\u001b[2K   \u001b[90m\u2501\u2501\u2501\u2501\u2501\u2501\u2501\u2501\u2501\u2501\u2501\u2501\u2501\u2501\u2501\u2501\u2501\u2501\u2501\u2501\u2501\u2501\u2501\u2501\u2501\u2501\u2501\u2501\u2501\u2501\u2501\u2501\u2501\u2501\u2501\u2501\u2501\u2501\u2501\u2501\u001b[0m \u001b[32m438.3/438.3 kB\u001b[0m \u001b[31m23.8 MB/s\u001b[0m eta \u001b[36m0:00:00\u001b[0m\n",
            "\u001b[2K   \u001b[90m\u2501\u2501\u2501\u2501\u2501\u2501\u2501\u2501\u2501\u2501\u2501\u2501\u2501\u2501\u2501\u2501\u2501\u2501\u2501\u2501\u2501\u2501\u2501\u2501\u2501\u2501\u2501\u2501\u2501\u2501\u2501\u2501\u2501\u2501\u2501\u2501\u2501\u2501\u2501\u2501\u001b[0m \u001b[32m44.4/44.4 kB\u001b[0m \u001b[31m3.3 MB/s\u001b[0m eta \u001b[36m0:00:00\u001b[0m\n",
            "\u001b[2K   \u001b[90m\u2501\u2501\u2501\u2501\u2501\u2501\u2501\u2501\u2501\u2501\u2501\u2501\u2501\u2501\u2501\u2501\u2501\u2501\u2501\u2501\u2501\u2501\u2501\u2501\u2501\u2501\u2501\u2501\u2501\u2501\u2501\u2501\u2501\u2501\u2501\u2501\u2501\u2501\u2501\u2501\u001b[0m \u001b[32m50.9/50.9 kB\u001b[0m \u001b[31m2.5 MB/s\u001b[0m eta \u001b[36m0:00:00\u001b[0m\n",
            "\u001b[2K     \u001b[90m\u2501\u2501\u2501\u2501\u2501\u2501\u2501\u2501\u2501\u2501\u2501\u2501\u2501\u2501\u2501\u2501\u2501\u2501\u2501\u2501\u2501\u2501\u2501\u2501\u2501\u2501\u2501\u2501\u2501\u2501\u2501\u2501\u2501\u2501\u2501\u2501\u2501\u2501\u2501\u2501\u001b[0m \u001b[32m67.3/67.3 kB\u001b[0m \u001b[31m6.3 MB/s\u001b[0m eta \u001b[36m0:00:00\u001b[0m\n",
            "\u001b[?25h  Installing build dependencies ... \u001b[?25l\u001b[?25hdone\n",
            "  Getting requirements to build wheel ... \u001b[?25l\u001b[?25hdone\n",
            "  Preparing metadata (pyproject.toml) ... \u001b[?25l\u001b[?25hdone\n",
            "\u001b[33mWARNING: unstructured 0.17.2 does not provide the extra 'all'\u001b[0m\u001b[33m\n",
            "\u001b[2K     \u001b[90m\u2501\u2501\u2501\u2501\u2501\u2501\u2501\u2501\u2501\u2501\u2501\u2501\u2501\u2501\u2501\u2501\u2501\u2501\u2501\u2501\u2501\u2501\u2501\u2501\u2501\u2501\u2501\u2501\u2501\u2501\u2501\u2501\u2501\u2501\u2501\u2501\u2501\u2501\u001b[0m \u001b[32m981.5/981.5 kB\u001b[0m \u001b[31m25.9 MB/s\u001b[0m eta \u001b[36m0:00:00\u001b[0m\n",
            "\u001b[?25h  Preparing metadata (setup.py) ... \u001b[?25l\u001b[?25hdone\n",
            "\u001b[2K   \u001b[90m\u2501\u2501\u2501\u2501\u2501\u2501\u2501\u2501\u2501\u2501\u2501\u2501\u2501\u2501\u2501\u2501\u2501\u2501\u2501\u2501\u2501\u2501\u2501\u2501\u2501\u2501\u2501\u2501\u2501\u2501\u2501\u2501\u2501\u2501\u2501\u2501\u2501\u2501\u2501\u2501\u001b[0m \u001b[32m24.1/24.1 MB\u001b[0m \u001b[31m94.5 MB/s\u001b[0m eta \u001b[36m0:00:00\u001b[0m\n",
            "\u001b[2K   \u001b[90m\u2501\u2501\u2501\u2501\u2501\u2501\u2501\u2501\u2501\u2501\u2501\u2501\u2501\u2501\u2501\u2501\u2501\u2501\u2501\u2501\u2501\u2501\u2501\u2501\u2501\u2501\u2501\u2501\u2501\u2501\u2501\u2501\u2501\u2501\u2501\u2501\u2501\u2501\u2501\u2501\u001b[0m \u001b[32m31.3/31.3 MB\u001b[0m \u001b[31m31.5 MB/s\u001b[0m eta \u001b[36m0:00:00\u001b[0m\n",
            "\u001b[2K   \u001b[90m\u2501\u2501\u2501\u2501\u2501\u2501\u2501\u2501\u2501\u2501\u2501\u2501\u2501\u2501\u2501\u2501\u2501\u2501\u2501\u2501\u2501\u2501\u2501\u2501\u2501\u2501\u2501\u2501\u2501\u2501\u2501\u2501\u2501\u2501\u2501\u2501\u2501\u2501\u2501\u2501\u001b[0m \u001b[32m19.0/19.0 MB\u001b[0m \u001b[31m112.2 MB/s\u001b[0m eta \u001b[36m0:00:00\u001b[0m\n",
            "\u001b[2K   \u001b[90m\u2501\u2501\u2501\u2501\u2501\u2501\u2501\u2501\u2501\u2501\u2501\u2501\u2501\u2501\u2501\u2501\u2501\u2501\u2501\u2501\u2501\u2501\u2501\u2501\u2501\u2501\u2501\u2501\u2501\u2501\u2501\u2501\u2501\u2501\u2501\u2501\u2501\u2501\u2501\u2501\u001b[0m \u001b[32m94.9/94.9 kB\u001b[0m \u001b[31m8.8 MB/s\u001b[0m eta \u001b[36m0:00:00\u001b[0m\n",
            "\u001b[2K   \u001b[90m\u2501\u2501\u2501\u2501\u2501\u2501\u2501\u2501\u2501\u2501\u2501\u2501\u2501\u2501\u2501\u2501\u2501\u2501\u2501\u2501\u2501\u2501\u2501\u2501\u2501\u2501\u2501\u2501\u2501\u2501\u2501\u2501\u2501\u2501\u2501\u2501\u2501\u2501\u2501\u2501\u001b[0m \u001b[32m303.4/303.4 kB\u001b[0m \u001b[31m26.8 MB/s\u001b[0m eta \u001b[36m0:00:00\u001b[0m\n",
            "\u001b[2K   \u001b[90m\u2501\u2501\u2501\u2501\u2501\u2501\u2501\u2501\u2501\u2501\u2501\u2501\u2501\u2501\u2501\u2501\u2501\u2501\u2501\u2501\u2501\u2501\u2501\u2501\u2501\u2501\u2501\u2501\u2501\u2501\u2501\u2501\u2501\u2501\u2501\u2501\u2501\u2501\u2501\u2501\u001b[0m \u001b[32m284.2/284.2 kB\u001b[0m \u001b[31m25.3 MB/s\u001b[0m eta \u001b[36m0:00:00\u001b[0m\n",
            "\u001b[2K   \u001b[90m\u2501\u2501\u2501\u2501\u2501\u2501\u2501\u2501\u2501\u2501\u2501\u2501\u2501\u2501\u2501\u2501\u2501\u2501\u2501\u2501\u2501\u2501\u2501\u2501\u2501\u2501\u2501\u2501\u2501\u2501\u2501\u2501\u2501\u2501\u2501\u2501\u2501\u2501\u2501\u2501\u001b[0m \u001b[32m2.0/2.0 MB\u001b[0m \u001b[31m92.7 MB/s\u001b[0m eta \u001b[36m0:00:00\u001b[0m\n",
            "\u001b[2K   \u001b[90m\u2501\u2501\u2501\u2501\u2501\u2501\u2501\u2501\u2501\u2501\u2501\u2501\u2501\u2501\u2501\u2501\u2501\u2501\u2501\u2501\u2501\u2501\u2501\u2501\u2501\u2501\u2501\u2501\u2501\u2501\u2501\u2501\u2501\u2501\u2501\u2501\u2501\u2501\u2501\u2501\u001b[0m \u001b[32m101.6/101.6 kB\u001b[0m \u001b[31m9.4 MB/s\u001b[0m eta \u001b[36m0:00:00\u001b[0m\n",
            "\u001b[2K   \u001b[90m\u2501\u2501\u2501\u2501\u2501\u2501\u2501\u2501\u2501\u2501\u2501\u2501\u2501\u2501\u2501\u2501\u2501\u2501\u2501\u2501\u2501\u2501\u2501\u2501\u2501\u2501\u2501\u2501\u2501\u2501\u2501\u2501\u2501\u2501\u2501\u2501\u2501\u2501\u2501\u2501\u001b[0m \u001b[32m16.4/16.4 MB\u001b[0m \u001b[31m101.3 MB/s\u001b[0m eta \u001b[36m0:00:00\u001b[0m\n",
            "\u001b[2K   \u001b[90m\u2501\u2501\u2501\u2501\u2501\u2501\u2501\u2501\u2501\u2501\u2501\u2501\u2501\u2501\u2501\u2501\u2501\u2501\u2501\u2501\u2501\u2501\u2501\u2501\u2501\u2501\u2501\u2501\u2501\u2501\u2501\u2501\u2501\u2501\u2501\u2501\u2501\u2501\u2501\u2501\u001b[0m \u001b[32m65.8/65.8 kB\u001b[0m \u001b[31m6.3 MB/s\u001b[0m eta \u001b[36m0:00:00\u001b[0m\n",
            "\u001b[2K   \u001b[90m\u2501\u2501\u2501\u2501\u2501\u2501\u2501\u2501\u2501\u2501\u2501\u2501\u2501\u2501\u2501\u2501\u2501\u2501\u2501\u2501\u2501\u2501\u2501\u2501\u2501\u2501\u2501\u2501\u2501\u2501\u2501\u2501\u2501\u2501\u2501\u2501\u2501\u2501\u2501\u2501\u001b[0m \u001b[32m55.9/55.9 kB\u001b[0m \u001b[31m5.6 MB/s\u001b[0m eta \u001b[36m0:00:00\u001b[0m\n",
            "\u001b[2K   \u001b[90m\u2501\u2501\u2501\u2501\u2501\u2501\u2501\u2501\u2501\u2501\u2501\u2501\u2501\u2501\u2501\u2501\u2501\u2501\u2501\u2501\u2501\u2501\u2501\u2501\u2501\u2501\u2501\u2501\u2501\u2501\u2501\u2501\u2501\u2501\u2501\u2501\u2501\u2501\u2501\u2501\u001b[0m \u001b[32m194.9/194.9 kB\u001b[0m \u001b[31m18.9 MB/s\u001b[0m eta \u001b[36m0:00:00\u001b[0m\n",
            "\u001b[2K   \u001b[90m\u2501\u2501\u2501\u2501\u2501\u2501\u2501\u2501\u2501\u2501\u2501\u2501\u2501\u2501\u2501\u2501\u2501\u2501\u2501\u2501\u2501\u2501\u2501\u2501\u2501\u2501\u2501\u2501\u2501\u2501\u2501\u2501\u2501\u2501\u2501\u2501\u2501\u2501\u2501\u2501\u001b[0m \u001b[32m119.0/119.0 kB\u001b[0m \u001b[31m12.6 MB/s\u001b[0m eta \u001b[36m0:00:00\u001b[0m\n",
            "\u001b[2K   \u001b[90m\u2501\u2501\u2501\u2501\u2501\u2501\u2501\u2501\u2501\u2501\u2501\u2501\u2501\u2501\u2501\u2501\u2501\u2501\u2501\u2501\u2501\u2501\u2501\u2501\u2501\u2501\u2501\u2501\u2501\u2501\u2501\u2501\u2501\u2501\u2501\u2501\u2501\u2501\u2501\u2501\u001b[0m \u001b[32m96.7/96.7 kB\u001b[0m \u001b[31m9.8 MB/s\u001b[0m eta \u001b[36m0:00:00\u001b[0m\n",
            "\u001b[2K   \u001b[90m\u2501\u2501\u2501\u2501\u2501\u2501\u2501\u2501\u2501\u2501\u2501\u2501\u2501\u2501\u2501\u2501\u2501\u2501\u2501\u2501\u2501\u2501\u2501\u2501\u2501\u2501\u2501\u2501\u2501\u2501\u2501\u2501\u2501\u2501\u2501\u2501\u2501\u2501\u2501\u2501\u001b[0m \u001b[32m62.5/62.5 kB\u001b[0m \u001b[31m6.6 MB/s\u001b[0m eta \u001b[36m0:00:00\u001b[0m\n",
            "\u001b[2K   \u001b[90m\u2501\u2501\u2501\u2501\u2501\u2501\u2501\u2501\u2501\u2501\u2501\u2501\u2501\u2501\u2501\u2501\u2501\u2501\u2501\u2501\u2501\u2501\u2501\u2501\u2501\u2501\u2501\u2501\u2501\u2501\u2501\u2501\u2501\u2501\u2501\u2501\u2501\u2501\u2501\u2501\u001b[0m \u001b[32m590.6/590.6 kB\u001b[0m \u001b[31m45.3 MB/s\u001b[0m eta \u001b[36m0:00:00\u001b[0m\n",
            "\u001b[2K   \u001b[90m\u2501\u2501\u2501\u2501\u2501\u2501\u2501\u2501\u2501\u2501\u2501\u2501\u2501\u2501\u2501\u2501\u2501\u2501\u2501\u2501\u2501\u2501\u2501\u2501\u2501\u2501\u2501\u2501\u2501\u2501\u2501\u2501\u2501\u2501\u2501\u2501\u2501\u2501\u2501\u2501\u001b[0m \u001b[32m167.6/167.6 kB\u001b[0m \u001b[31m16.9 MB/s\u001b[0m eta \u001b[36m0:00:00\u001b[0m\n",
            "\u001b[2K   \u001b[90m\u2501\u2501\u2501\u2501\u2501\u2501\u2501\u2501\u2501\u2501\u2501\u2501\u2501\u2501\u2501\u2501\u2501\u2501\u2501\u2501\u2501\u2501\u2501\u2501\u2501\u2501\u2501\u2501\u2501\u2501\u2501\u2501\u2501\u2501\u2501\u2501\u2501\u2501\u2501\u2501\u001b[0m \u001b[32m3.1/3.1 MB\u001b[0m \u001b[31m107.8 MB/s\u001b[0m eta \u001b[36m0:00:00\u001b[0m\n",
            "\u001b[2K   \u001b[90m\u2501\u2501\u2501\u2501\u2501\u2501\u2501\u2501\u2501\u2501\u2501\u2501\u2501\u2501\u2501\u2501\u2501\u2501\u2501\u2501\u2501\u2501\u2501\u2501\u2501\u2501\u2501\u2501\u2501\u2501\u2501\u2501\u2501\u2501\u2501\u2501\u2501\u2501\u2501\u2501\u001b[0m \u001b[32m1.8/1.8 MB\u001b[0m \u001b[31m77.4 MB/s\u001b[0m eta \u001b[36m0:00:00\u001b[0m\n",
            "\u001b[2K   \u001b[90m\u2501\u2501\u2501\u2501\u2501\u2501\u2501\u2501\u2501\u2501\u2501\u2501\u2501\u2501\u2501\u2501\u2501\u2501\u2501\u2501\u2501\u2501\u2501\u2501\u2501\u2501\u2501\u2501\u2501\u2501\u2501\u2501\u2501\u2501\u2501\u2501\u2501\u2501\u2501\u2501\u001b[0m \u001b[32m192.1/192.1 kB\u001b[0m \u001b[31m19.5 MB/s\u001b[0m eta \u001b[36m0:00:00\u001b[0m\n",
            "\u001b[2K   \u001b[90m\u2501\u2501\u2501\u2501\u2501\u2501\u2501\u2501\u2501\u2501\u2501\u2501\u2501\u2501\u2501\u2501\u2501\u2501\u2501\u2501\u2501\u2501\u2501\u2501\u2501\u2501\u2501\u2501\u2501\u2501\u2501\u2501\u2501\u2501\u2501\u2501\u2501\u2501\u2501\u2501\u001b[0m \u001b[32m459.8/459.8 kB\u001b[0m \u001b[31m40.4 MB/s\u001b[0m eta \u001b[36m0:00:00\u001b[0m\n",
            "\u001b[2K   \u001b[90m\u2501\u2501\u2501\u2501\u2501\u2501\u2501\u2501\u2501\u2501\u2501\u2501\u2501\u2501\u2501\u2501\u2501\u2501\u2501\u2501\u2501\u2501\u2501\u2501\u2501\u2501\u2501\u2501\u2501\u2501\u2501\u2501\u2501\u2501\u2501\u2501\u2501\u2501\u2501\u2501\u001b[0m \u001b[32m71.5/71.5 kB\u001b[0m \u001b[31m6.1 MB/s\u001b[0m eta \u001b[36m0:00:00\u001b[0m\n",
            "\u001b[2K   \u001b[90m\u2501\u2501\u2501\u2501\u2501\u2501\u2501\u2501\u2501\u2501\u2501\u2501\u2501\u2501\u2501\u2501\u2501\u2501\u2501\u2501\u2501\u2501\u2501\u2501\u2501\u2501\u2501\u2501\u2501\u2501\u2501\u2501\u2501\u2501\u2501\u2501\u2501\u2501\u2501\u2501\u001b[0m \u001b[32m4.0/4.0 MB\u001b[0m \u001b[31m107.5 MB/s\u001b[0m eta \u001b[36m0:00:00\u001b[0m\n",
            "\u001b[2K   \u001b[90m\u2501\u2501\u2501\u2501\u2501\u2501\u2501\u2501\u2501\u2501\u2501\u2501\u2501\u2501\u2501\u2501\u2501\u2501\u2501\u2501\u2501\u2501\u2501\u2501\u2501\u2501\u2501\u2501\u2501\u2501\u2501\u2501\u2501\u2501\u2501\u2501\u2501\u2501\u2501\u2501\u001b[0m \u001b[32m454.8/454.8 kB\u001b[0m \u001b[31m40.1 MB/s\u001b[0m eta \u001b[36m0:00:00\u001b[0m\n",
            "\u001b[2K   \u001b[90m\u2501\u2501\u2501\u2501\u2501\u2501\u2501\u2501\u2501\u2501\u2501\u2501\u2501\u2501\u2501\u2501\u2501\u2501\u2501\u2501\u2501\u2501\u2501\u2501\u2501\u2501\u2501\u2501\u2501\u2501\u2501\u2501\u2501\u2501\u2501\u2501\u2501\u2501\u2501\u2501\u001b[0m \u001b[32m46.0/46.0 kB\u001b[0m \u001b[31m4.6 MB/s\u001b[0m eta \u001b[36m0:00:00\u001b[0m\n",
            "\u001b[2K   \u001b[90m\u2501\u2501\u2501\u2501\u2501\u2501\u2501\u2501\u2501\u2501\u2501\u2501\u2501\u2501\u2501\u2501\u2501\u2501\u2501\u2501\u2501\u2501\u2501\u2501\u2501\u2501\u2501\u2501\u2501\u2501\u2501\u2501\u2501\u2501\u2501\u2501\u2501\u2501\u2501\u2501\u001b[0m \u001b[32m114.6/114.6 kB\u001b[0m \u001b[31m11.1 MB/s\u001b[0m eta \u001b[36m0:00:00\u001b[0m\n",
            "\u001b[2K   \u001b[90m\u2501\u2501\u2501\u2501\u2501\u2501\u2501\u2501\u2501\u2501\u2501\u2501\u2501\u2501\u2501\u2501\u2501\u2501\u2501\u2501\u2501\u2501\u2501\u2501\u2501\u2501\u2501\u2501\u2501\u2501\u2501\u2501\u2501\u2501\u2501\u2501\u2501\u2501\u2501\u2501\u001b[0m \u001b[32m86.8/86.8 kB\u001b[0m \u001b[31m9.2 MB/s\u001b[0m eta \u001b[36m0:00:00\u001b[0m\n",
            "\u001b[?25h  Building wheel for pypika (pyproject.toml) ... \u001b[?25l\u001b[?25hdone\n",
            "  Building wheel for langdetect (setup.py) ... \u001b[?25l\u001b[?25hdone\n"
          ]
        }
      ],
      "source": [
        "!pip install -U langchain langchain-community langchain-openai langchain-core -q\n",
        "!pip install pymupdf faiss-cpu tiktoken chromadb pypdf unstructured[all] pdf2image pytesseract -q"
      ]
    },
    {
      "cell_type": "markdown",
      "source": [
        "## 1. \ubb38\uc11c \uc5c5\ub85c\ub4dc \ubc0f \ud14d\uc2a4\ud2b8 \ucd94\ucd9c"
      ],
      "metadata": {
        "id": "aR5pybFMjgGc"
      }
    },
    {
      "cell_type": "code",
      "source": [
        "from google.colab import files\n",
        "\n",
        "uploaded = files.upload()\n",
        "pdf_path = list(uploaded.keys())[0]\n",
        "\n",
        "print(pdf_path)"
      ],
      "metadata": {
        "colab": {
          "base_uri": "https://localhost:8080/",
          "height": 92
        },
        "id": "47w2J3ZWhC8G",
        "executionInfo": {
          "status": "ok",
          "timestamp": 1748351937757,
          "user_tz": -540,
          "elapsed": 96606,
          "user": {
            "displayName": "\uc784\uc740\uc11d",
            "userId": "11880229837910021675"
          }
        },
        "outputId": "97c1f1b0-4d6a-44a0-bab5-54cc37621f24"
      },
      "execution_count": null,
      "outputs": [
        {
          "output_type": "display_data",
          "data": {
            "text/plain": [
              "<IPython.core.display.HTML object>"
            ],
            "text/html": [
              "\n",
              "     <input type=\"file\" id=\"files-23cd0a20-52e5-4d42-af91-ae80fcca734c\" name=\"files[]\" multiple disabled\n",
              "        style=\"border:none\" />\n",
              "     <output id=\"result-23cd0a20-52e5-4d42-af91-ae80fcca734c\">\n",
              "      Upload widget is only available when the cell has been executed in the\n",
              "      current browser session. Please rerun this cell to enable.\n",
              "      </output>\n",
              "      <script>// Copyright 2017 Google LLC\n",
              "//\n",
              "// Licensed under the Apache License, Version 2.0 (the \"License\");\n",
              "// you may not use this file except in compliance with the License.\n",
              "// You may obtain a copy of the License at\n",
              "//\n",
              "//      http://www.apache.org/licenses/LICENSE-2.0\n",
              "//\n",
              "// Unless required by applicable law or agreed to in writing, software\n",
              "// distributed under the License is distributed on an \"AS IS\" BASIS,\n",
              "// WITHOUT WARRANTIES OR CONDITIONS OF ANY KIND, either express or implied.\n",
              "// See the License for the specific language governing permissions and\n",
              "// limitations under the License.\n",
              "\n",
              "/**\n",
              " * @fileoverview Helpers for google.colab Python module.\n",
              " */\n",
              "(function(scope) {\n",
              "function span(text, styleAttributes = {}) {\n",
              "  const element = document.createElement('span');\n",
              "  element.textContent = text;\n",
              "  for (const key of Object.keys(styleAttributes)) {\n",
              "    element.style[key] = styleAttributes[key];\n",
              "  }\n",
              "  return element;\n",
              "}\n",
              "\n",
              "// Max number of bytes which will be uploaded at a time.\n",
              "const MAX_PAYLOAD_SIZE = 100 * 1024;\n",
              "\n",
              "function _uploadFiles(inputId, outputId) {\n",
              "  const steps = uploadFilesStep(inputId, outputId);\n",
              "  const outputElement = document.getElementById(outputId);\n",
              "  // Cache steps on the outputElement to make it available for the next call\n",
              "  // to uploadFilesContinue from Python.\n",
              "  outputElement.steps = steps;\n",
              "\n",
              "  return _uploadFilesContinue(outputId);\n",
              "}\n",
              "\n",
              "// This is roughly an async generator (not supported in the browser yet),\n",
              "// where there are multiple asynchronous steps and the Python side is going\n",
              "// to poll for completion of each step.\n",
              "// This uses a Promise to block the python side on completion of each step,\n",
              "// then passes the result of the previous step as the input to the next step.\n",
              "function _uploadFilesContinue(outputId) {\n",
              "  const outputElement = document.getElementById(outputId);\n",
              "  const steps = outputElement.steps;\n",
              "\n",
              "  const next = steps.next(outputElement.lastPromiseValue);\n",
              "  return Promise.resolve(next.value.promise).then((value) => {\n",
              "    // Cache the last promise value to make it available to the next\n",
              "    // step of the generator.\n",
              "    outputElement.lastPromiseValue = value;\n",
              "    return next.value.response;\n",
              "  });\n",
              "}\n",
              "\n",
              "/**\n",
              " * Generator function which is called between each async step of the upload\n",
              " * process.\n",
              " * @param {string} inputId Element ID of the input file picker element.\n",
              " * @param {string} outputId Element ID of the output display.\n",
              " * @return {!Iterable<!Object>} Iterable of next steps.\n",
              " */\n",
              "function* uploadFilesStep(inputId, outputId) {\n",
              "  const inputElement = document.getElementById(inputId);\n",
              "  inputElement.disabled = false;\n",
              "\n",
              "  const outputElement = document.getElementById(outputId);\n",
              "  outputElement.innerHTML = '';\n",
              "\n",
              "  const pickedPromise = new Promise((resolve) => {\n",
              "    inputElement.addEventListener('change', (e) => {\n",
              "      resolve(e.target.files);\n",
              "    });\n",
              "  });\n",
              "\n",
              "  const cancel = document.createElement('button');\n",
              "  inputElement.parentElement.appendChild(cancel);\n",
              "  cancel.textContent = 'Cancel upload';\n",
              "  const cancelPromise = new Promise((resolve) => {\n",
              "    cancel.onclick = () => {\n",
              "      resolve(null);\n",
              "    };\n",
              "  });\n",
              "\n",
              "  // Wait for the user to pick the files.\n",
              "  const files = yield {\n",
              "    promise: Promise.race([pickedPromise, cancelPromise]),\n",
              "    response: {\n",
              "      action: 'starting',\n",
              "    }\n",
              "  };\n",
              "\n",
              "  cancel.remove();\n",
              "\n",
              "  // Disable the input element since further picks are not allowed.\n",
              "  inputElement.disabled = true;\n",
              "\n",
              "  if (!files) {\n",
              "    return {\n",
              "      response: {\n",
              "        action: 'complete',\n",
              "      }\n",
              "    };\n",
              "  }\n",
              "\n",
              "  for (const file of files) {\n",
              "    const li = document.createElement('li');\n",
              "    li.append(span(file.name, {fontWeight: 'bold'}));\n",
              "    li.append(span(\n",
              "        `(${file.type || 'n/a'}) - ${file.size} bytes, ` +\n",
              "        `last modified: ${\n",
              "            file.lastModifiedDate ? file.lastModifiedDate.toLocaleDateString() :\n",
              "                                    'n/a'} - `));\n",
              "    const percent = span('0% done');\n",
              "    li.appendChild(percent);\n",
              "\n",
              "    outputElement.appendChild(li);\n",
              "\n",
              "    const fileDataPromise = new Promise((resolve) => {\n",
              "      const reader = new FileReader();\n",
              "      reader.onload = (e) => {\n",
              "        resolve(e.target.result);\n",
              "      };\n",
              "      reader.readAsArrayBuffer(file);\n",
              "    });\n",
              "    // Wait for the data to be ready.\n",
              "    let fileData = yield {\n",
              "      promise: fileDataPromise,\n",
              "      response: {\n",
              "        action: 'continue',\n",
              "      }\n",
              "    };\n",
              "\n",
              "    // Use a chunked sending to avoid message size limits. See b/62115660.\n",
              "    let position = 0;\n",
              "    do {\n",
              "      const length = Math.min(fileData.byteLength - position, MAX_PAYLOAD_SIZE);\n",
              "      const chunk = new Uint8Array(fileData, position, length);\n",
              "      position += length;\n",
              "\n",
              "      const base64 = btoa(String.fromCharCode.apply(null, chunk));\n",
              "      yield {\n",
              "        response: {\n",
              "          action: 'append',\n",
              "          file: file.name,\n",
              "          data: base64,\n",
              "        },\n",
              "      };\n",
              "\n",
              "      let percentDone = fileData.byteLength === 0 ?\n",
              "          100 :\n",
              "          Math.round((position / fileData.byteLength) * 100);\n",
              "      percent.textContent = `${percentDone}% done`;\n",
              "\n",
              "    } while (position < fileData.byteLength);\n",
              "  }\n",
              "\n",
              "  // All done.\n",
              "  yield {\n",
              "    response: {\n",
              "      action: 'complete',\n",
              "    }\n",
              "  };\n",
              "}\n",
              "\n",
              "scope.google = scope.google || {};\n",
              "scope.google.colab = scope.google.colab || {};\n",
              "scope.google.colab._files = {\n",
              "  _uploadFiles,\n",
              "  _uploadFilesContinue,\n",
              "};\n",
              "})(self);\n",
              "</script> "
            ]
          },
          "metadata": {}
        },
        {
          "output_type": "stream",
          "name": "stdout",
          "text": [
            "Saving \u1102\u1169\u110b\u1175\u11ab\u1106\u1161\u11bd\u110e\u116e\u11b7\u1103\u1169\u11af\u1107\u1169\u11b7\u1109\u1165\u1107\u1175\u1109\u1173.pdf to \u1102\u1169\u110b\u1175\u11ab\u1106\u1161\u11bd\u110e\u116e\u11b7\u1103\u1169\u11af\u1107\u1169\u11b7\u1109\u1165\u1107\u1175\u1109\u1173.pdf\n",
            "\u1102\u1169\u110b\u1175\u11ab\u1106\u1161\u11bd\u110e\u116e\u11b7\u1103\u1169\u11af\u1107\u1169\u11b7\u1109\u1165\u1107\u1175\u1109\u1173.pdf\n"
          ]
        }
      ]
    },
    {
      "cell_type": "code",
      "source": [
        "'''from langchain.document_loaders import PyPDFLoader\n",
        "\n",
        "loader = PyPDFLoader(pdf_path)\n",
        "documents = loader.load()\n",
        "\n",
        "documents''' # PyPDFLoader\uc758 \uae68\uc9d0 \ud604\uc0c1\uc73c\ub85c fitz\ub85c \ud14d\uc2a4\ud2b8 \ucd94\ucd9c \ud6c4 document \uac1d\uccb4 \uc0dd\uc131"
      ],
      "metadata": {
        "colab": {
          "base_uri": "https://localhost:8080/",
          "height": 36
        },
        "id": "0RUdheV3hLC-",
        "executionInfo": {
          "status": "ok",
          "timestamp": 1748351937773,
          "user_tz": -540,
          "elapsed": 8,
          "user": {
            "displayName": "\uc784\uc740\uc11d",
            "userId": "11880229837910021675"
          }
        },
        "outputId": "cd3363aa-d878-4eee-d95b-55d149fd7d86"
      },
      "execution_count": null,
      "outputs": [
        {
          "output_type": "execute_result",
          "data": {
            "text/plain": [
              "'from langchain.document_loaders import PyPDFLoader\\n\\nloader = PyPDFLoader(pdf_path)\\ndocuments = loader.load()\\n\\ndocuments'"
            ],
            "application/vnd.google.colaboratory.intrinsic+json": {
              "type": "string"
            }
          },
          "metadata": {},
          "execution_count": 3
        }
      ]
    },
    {
      "cell_type": "code",
      "source": [
        "from langchain.schema import Document\n",
        "import fitz  # PyMuPDF\n",
        "\n",
        "def load_pdf_with_fitz_and_metadata(pdf_path):\n",
        "    doc = fitz.open(pdf_path)\n",
        "    documents = []\n",
        "    for i, page in enumerate(doc):\n",
        "        text = page.get_text(\"text\").strip()\n",
        "\n",
        "        metadata = {\n",
        "            \"source\": pdf_path,\n",
        "            \"page\": i,\n",
        "            \"total_pages\": len(doc),\n",
        "            \"page_label\": page.get_label() if hasattr(page, \"get_label\") else str(i + 1)\n",
        "        }\n",
        "\n",
        "        documents.append(Document(page_content=text, metadata=metadata))\n",
        "    return documents\n",
        "\n",
        "documents = load_pdf_with_fitz_and_metadata(pdf_path)\n",
        "documents[0]"
      ],
      "metadata": {
        "colab": {
          "base_uri": "https://localhost:8080/"
        },
        "id": "YKL0nkT897Df",
        "executionInfo": {
          "status": "ok",
          "timestamp": 1748351938482,
          "user_tz": -540,
          "elapsed": 702,
          "user": {
            "displayName": "\uc784\uc740\uc11d",
            "userId": "11880229837910021675"
          }
        },
        "outputId": "17b60d44-1cbd-4ed1-94ac-83e3714c9b6f"
      },
      "execution_count": null,
      "outputs": [
        {
          "output_type": "execute_result",
          "data": {
            "text/plain": [
              "Document(metadata={'source': '\u1102\u1169\u110b\u1175\u11ab\u1106\u1161\u11bd\u110e\u116e\u11b7\u1103\u1169\u11af\u1107\u1169\u11b7\u1109\u1165\u1107\u1175\u1109\u1173.pdf', 'page': 0, 'total_pages': 2, 'page_label': ''}, page_content='1. \uc11c\ube44\uc2a4 \ub300\uc0c1\uc790 \uc120\uc815 \\n \\n\uac00. \uc11c\ube44\uc2a4 \uc2e0\uccad \\n\u2022 \\n\ub178\uc778\ub9de\ucda4\ub3cc\ubd04\uc11c\ube44\uc2a4\ub97c \ud544\uc694\ub85c \ud558\ub294 \ub178\uc778 \ub610\ub294 \uadf8 \uac00\uc871 \ub4f1\uc774 \uc74d\u00b7\uba74\u00b7\ub3d9 \ud589\uc815\ubcf5\uc9c0\uc13c\\n\ud130 \ubc29\ubb38 \ub4f1\uc744 \ud1b5\ud574 \uc11c\ube44\uc2a4 \uc2e0\uccad \\n \\n\u25a3 \uc11c\ube44\uc2a4 \uc2e0\uccad\uc790\uaca9 \\n\u2022 \\n65\uc138 \uc774\uc0c1 \uad6d\ubbfc\uae30\ucd08\uc0dd\ud65c\uc218\uae09\uc790, \u2461\ucc28\uc0c1\uc704\uacc4\uce35 \ub610\ub294 \u2462\uae30\ucd08\uc5f0\uae08\uc218\uae09\uc790\ub85c\uc11c \uc720\uc0ac\uc911\\n\ubcf5\uc0ac\uc5c5 \uc790\uaca9\uc5d0 \ud574\ub2f9\ub418\uc9c0 \uc54a\ub294 \uc790 \\n(\ub2e8, \uc2dc\uc7a5\u00b7\uad70\uc218\u00b7\uad6c\uccad\uc7a5\uc774 \uc11c\ube44\uc2a4\uac00 \ud544\uc694\ud558\ub2e4\uace0 \uc778\uc815\ud558\ub294 \uacbd\uc6b0 \uc608\uc678\uc801\uc73c\ub85c \uc81c\uacf5 \uac00\\n\ub2a5) \\n \\n\u25a3 \uc720\uc0ac\uc911\ubcf5\uc0ac\uc5c5 \uc790\uaca9 \ud574\ub2f9\uc790 \\n\u203b \ub178\uc778\ub9de\ucda4\ub3cc\ubd04\uc11c\ube44\uc2a4\ub294 \uc608\ubc29\uc801 \ub3cc\ubd04\uc11c\ube44\uc2a4\ub85c, \u2460~\u2464\uae4c\uc9c0\uc758 \uc720\uc0ac\uc911\ubcf5\uc0ac\uc5c5\uc740 \ub178\uc778\ub9de\ucda4\ub3cc\\n\ubd04\uc11c\ube44\uc2a4 \ubcf4\ub2e4 \uc6b0\uc120\uc801\uc73c\ub85c \uc81c\uacf5 \\n1. \ub178\uc778\uc7a5\uae30\uc694\uc591\ubcf4\ud5d8 \ub4f1\uae09\uc790 \\n\u203b \ub178\uc778\uc7a5\uae30\uc694\uc591\ubcf4\ud5d8\uc740 \ub178\uc778\ub9de\ucda4\ub3cc\ubd04\uc11c\ube44\uc2a4\uc758 \uc120\uc21c\uc704\ub85c\uc11c \uc7a5\uae30\uc694\uc591 \ub4f1\uae09\uc790\uac00 \uc7a5\\n\uae30\uc694\uc591\uc744 \ud3ec\uae30\ud558\uace0 \ub178\uc778\ub9de\ucda4\ub3cc\ubd04\uc11c\ube44\uc2a4\ub97c \uc2e0\uccad\ud558\ub294 \uac83\uc740 \ubd88\uac00\ud568 \\n\u2460 \uc7a5\uae30\uc694\uc591 \ub4f1\uae09 \uc720\ud6a8\uae30\uac04 \ub9cc\ub8cc\uc790(\uc2e0\uccad \uac00\ub2a5\ud558\uace0 \ub178\uc778\uc7a5\uae30\uc694\uc591\ubcf4\ud5d8 \ub4f1\uae09\uace0\uc9c0\uac00 \\n\uc694\uccad\ub418\uace0, \\n\uc2dc\uc7a5\u00b7\uad70\uc218\u00b7\uad6c\uccad\uc7a5\uc774 \uc11c\ube44\uc2a4\uac00 \ud544\uc694\ud558\ub2e4\uace0 \uc778\uc815\ud558\ub294 \uacbd\uc6b0 \uc608\uc678\uc801\uc73c\ub85c \uc2e0\uccad \uac00\ub2a5) \\n\u203b \uc2e0\uccad \ub2f9\uc2dc \ubcf8\uc778 \uc9c8\ubcd1\u00b7\uc0ac\uc720 \ub4f1\uc73c\ub85c \uc7a5\uae30\uc694\uc591 \uc2e0\uccad\uc774 \uc5b4\ub824\uc6b4 \uacbd\uc6b0, \ud574\ub2f9 \uc0ac\uc720\ub97c \\n\uae30\uc7ac\ud55c \uc7a5\uae30\uc694\uc591\uc815\ubcf4\uc81c\uacf5\uc2e0\uccad\uc11c(\ud589\ubcf5e\uc74c)\ub97c \ud1b5\ud574 \ud655\uc778 \uc2dc \ub178\uc778\ub9de\ucda4\ub3cc\ubd04\uc11c\ube44\uc2a4 \uc81c\\n\uacf5(\uc7a5\uae30\uc694\uc591\ubcf4\ud5d8\uc815\ubcf4\uc81c\uacf5\uc11c \uc81c\ucd9c) \\n2. \uac00\uc0ac\u00b7\uac04\ubcd1 \ubc29\ubb38\uc9c0\uc6d0\uc0ac\uc5c5 \uc774\uc6a9\uc790 \\n3. \uad6d\uac00\ubcf4\ud6c8\ucc98 \ubcf4\ud6c8\uc7ac\uac00\ubcf5\uc9c0\uc11c\ube44\uc2a4 \uc774\uc6a9\uc790 \\n4. \uae30\ud0c0 \uc720\uc0ac \ub3cc\ubd04\uc11c\ube44\uc2a4 \uc774\uc6a9\uc790 \\no \\n\uae30\ud0c0 \uad6d\uac00 \ubc0f \uc9c0\ubc29\uc790\uce58\ub2e8\uccb4(\uc774\ud558 \u201c\uc9c0\uc790\uccb4\u201d)\uc5d0\uc11c \uc2dc\ud589\ud558\ub294 \uc11c\ube44\uc2a4 \uc911 \ub178\uc778\ub9de\\n\ucda4\ub3cc\ubd04\uc11c\ube44\uc2a4\uc640 \uc720\uc0ac\ud55c \uc7ac\uac00\uc11c\ube44\uc2a4 \\n\u203b \uc2dc\u00b7\uad70\u00b7\uad6c\ub294 \ud0c0 \uc0ac\uc5c5\uc758 \ud2b9\uc131, \uc2e4\uc81c\uc801 \uc81c\uacf5 \ub0b4\uc6a9 \ubc0f \ub3cc\ubd04 \ud544\uc694\uc131 \ub4f1\uc744 \uace0\ub824')"
            ]
          },
          "metadata": {},
          "execution_count": 4
        }
      ]
    },
    {
      "cell_type": "markdown",
      "source": [
        "## 2. \ud14d\uc2a4\ud2b8 \ubd84\ud560"
      ],
      "metadata": {
        "id": "85Vt-8OlkuLf"
      }
    },
    {
      "cell_type": "code",
      "source": [
        "from langchain.text_splitter import RecursiveCharacterTextSplitter\n",
        "\n",
        "text_splitter = RecursiveCharacterTextSplitter(\n",
        "    chunk_size=300,\n",
        "    chunk_overlap=100,\n",
        "    separators=[\"\\n\\n\", \"\\n\", \".\", \"!\", \"?\", \" \", \"\"] # chunk_size \uc774\ud6c4 \uad6c\ubd84\uc790(\\n\\n)\uac00 \ub098\ud0c0\ub098\uba74 \ub354 \uc791\uc740 \uad6c\ubd84\uc790(\\n)\ub85c \ub098\ub214\n",
        ")\n",
        "\n",
        "split_docs = text_splitter.split_documents(documents)\n",
        "\n",
        "print(f\"\ucd1d \uccad\ud06c \uac1c\uc218: {len(split_docs)}\")\n",
        "for i, doc in enumerate(split_docs):\n",
        "    print(f'\\n[\ubb38\uc11c {i+1}]\\n{doc.page_content}')\n",
        "    if i == 2:\n",
        "        break\n"
      ],
      "metadata": {
        "colab": {
          "base_uri": "https://localhost:8080/"
        },
        "id": "F0XpP6yuhr7P",
        "executionInfo": {
          "status": "ok",
          "timestamp": 1748351938505,
          "user_tz": -540,
          "elapsed": 26,
          "user": {
            "displayName": "\uc784\uc740\uc11d",
            "userId": "11880229837910021675"
          }
        },
        "outputId": "e3f0e6ee-3262-4400-8f7e-9321e05ce05b"
      },
      "execution_count": null,
      "outputs": [
        {
          "output_type": "stream",
          "name": "stdout",
          "text": [
            "\ucd1d \uccad\ud06c \uac1c\uc218: 5\n",
            "\n",
            "[\ubb38\uc11c 1]\n",
            "1. \uc11c\ube44\uc2a4 \ub300\uc0c1\uc790 \uc120\uc815 \n",
            " \n",
            "\uac00. \uc11c\ube44\uc2a4 \uc2e0\uccad \n",
            "\u2022 \n",
            "\ub178\uc778\ub9de\ucda4\ub3cc\ubd04\uc11c\ube44\uc2a4\ub97c \ud544\uc694\ub85c \ud558\ub294 \ub178\uc778 \ub610\ub294 \uadf8 \uac00\uc871 \ub4f1\uc774 \uc74d\u00b7\uba74\u00b7\ub3d9 \ud589\uc815\ubcf5\uc9c0\uc13c\n",
            "\ud130 \ubc29\ubb38 \ub4f1\uc744 \ud1b5\ud574 \uc11c\ube44\uc2a4 \uc2e0\uccad \n",
            " \n",
            "\u25a3 \uc11c\ube44\uc2a4 \uc2e0\uccad\uc790\uaca9 \n",
            "\u2022 \n",
            "65\uc138 \uc774\uc0c1 \uad6d\ubbfc\uae30\ucd08\uc0dd\ud65c\uc218\uae09\uc790, \u2461\ucc28\uc0c1\uc704\uacc4\uce35 \ub610\ub294 \u2462\uae30\ucd08\uc5f0\uae08\uc218\uae09\uc790\ub85c\uc11c \uc720\uc0ac\uc911\n",
            "\ubcf5\uc0ac\uc5c5 \uc790\uaca9\uc5d0 \ud574\ub2f9\ub418\uc9c0 \uc54a\ub294 \uc790 \n",
            "(\ub2e8, \uc2dc\uc7a5\u00b7\uad70\uc218\u00b7\uad6c\uccad\uc7a5\uc774 \uc11c\ube44\uc2a4\uac00 \ud544\uc694\ud558\ub2e4\uace0 \uc778\uc815\ud558\ub294 \uacbd\uc6b0 \uc608\uc678\uc801\uc73c\ub85c \uc81c\uacf5 \uac00\n",
            "\ub2a5) \n",
            " \n",
            "\u25a3 \uc720\uc0ac\uc911\ubcf5\uc0ac\uc5c5 \uc790\uaca9 \ud574\ub2f9\uc790 \n",
            "\u203b \ub178\uc778\ub9de\ucda4\ub3cc\ubd04\uc11c\ube44\uc2a4\ub294 \uc608\ubc29\uc801 \ub3cc\ubd04\uc11c\ube44\uc2a4\ub85c, \u2460~\u2464\uae4c\uc9c0\uc758 \uc720\uc0ac\uc911\ubcf5\uc0ac\uc5c5\uc740 \ub178\uc778\ub9de\ucda4\ub3cc\n",
            "\n",
            "[\ubb38\uc11c 2]\n",
            "\ub2a5) \n",
            " \n",
            "\u25a3 \uc720\uc0ac\uc911\ubcf5\uc0ac\uc5c5 \uc790\uaca9 \ud574\ub2f9\uc790 \n",
            "\u203b \ub178\uc778\ub9de\ucda4\ub3cc\ubd04\uc11c\ube44\uc2a4\ub294 \uc608\ubc29\uc801 \ub3cc\ubd04\uc11c\ube44\uc2a4\ub85c, \u2460~\u2464\uae4c\uc9c0\uc758 \uc720\uc0ac\uc911\ubcf5\uc0ac\uc5c5\uc740 \ub178\uc778\ub9de\ucda4\ub3cc\n",
            "\ubd04\uc11c\ube44\uc2a4 \ubcf4\ub2e4 \uc6b0\uc120\uc801\uc73c\ub85c \uc81c\uacf5 \n",
            "1. \ub178\uc778\uc7a5\uae30\uc694\uc591\ubcf4\ud5d8 \ub4f1\uae09\uc790 \n",
            "\u203b \ub178\uc778\uc7a5\uae30\uc694\uc591\ubcf4\ud5d8\uc740 \ub178\uc778\ub9de\ucda4\ub3cc\ubd04\uc11c\ube44\uc2a4\uc758 \uc120\uc21c\uc704\ub85c\uc11c \uc7a5\uae30\uc694\uc591 \ub4f1\uae09\uc790\uac00 \uc7a5\n",
            "\uae30\uc694\uc591\uc744 \ud3ec\uae30\ud558\uace0 \ub178\uc778\ub9de\ucda4\ub3cc\ubd04\uc11c\ube44\uc2a4\ub97c \uc2e0\uccad\ud558\ub294 \uac83\uc740 \ubd88\uac00\ud568 \n",
            "\u2460 \uc7a5\uae30\uc694\uc591 \ub4f1\uae09 \uc720\ud6a8\uae30\uac04 \ub9cc\ub8cc\uc790(\uc2e0\uccad \uac00\ub2a5\ud558\uace0 \ub178\uc778\uc7a5\uae30\uc694\uc591\ubcf4\ud5d8 \ub4f1\uae09\uace0\uc9c0\uac00 \n",
            "\uc694\uccad\ub418\uace0, \n",
            "\uc2dc\uc7a5\u00b7\uad70\uc218\u00b7\uad6c\uccad\uc7a5\uc774 \uc11c\ube44\uc2a4\uac00 \ud544\uc694\ud558\ub2e4\uace0 \uc778\uc815\ud558\ub294 \uacbd\uc6b0 \uc608\uc678\uc801\uc73c\ub85c \uc2e0\uccad \uac00\ub2a5)\n",
            "\n",
            "[\ubb38\uc11c 3]\n",
            "\u2460 \uc7a5\uae30\uc694\uc591 \ub4f1\uae09 \uc720\ud6a8\uae30\uac04 \ub9cc\ub8cc\uc790(\uc2e0\uccad \uac00\ub2a5\ud558\uace0 \ub178\uc778\uc7a5\uae30\uc694\uc591\ubcf4\ud5d8 \ub4f1\uae09\uace0\uc9c0\uac00 \n",
            "\uc694\uccad\ub418\uace0, \n",
            "\uc2dc\uc7a5\u00b7\uad70\uc218\u00b7\uad6c\uccad\uc7a5\uc774 \uc11c\ube44\uc2a4\uac00 \ud544\uc694\ud558\ub2e4\uace0 \uc778\uc815\ud558\ub294 \uacbd\uc6b0 \uc608\uc678\uc801\uc73c\ub85c \uc2e0\uccad \uac00\ub2a5) \n",
            "\u203b \uc2e0\uccad \ub2f9\uc2dc \ubcf8\uc778 \uc9c8\ubcd1\u00b7\uc0ac\uc720 \ub4f1\uc73c\ub85c \uc7a5\uae30\uc694\uc591 \uc2e0\uccad\uc774 \uc5b4\ub824\uc6b4 \uacbd\uc6b0, \ud574\ub2f9 \uc0ac\uc720\ub97c \n",
            "\uae30\uc7ac\ud55c \uc7a5\uae30\uc694\uc591\uc815\ubcf4\uc81c\uacf5\uc2e0\uccad\uc11c(\ud589\ubcf5e\uc74c)\ub97c \ud1b5\ud574 \ud655\uc778 \uc2dc \ub178\uc778\ub9de\ucda4\ub3cc\ubd04\uc11c\ube44\uc2a4 \uc81c\n",
            "\uacf5(\uc7a5\uae30\uc694\uc591\ubcf4\ud5d8\uc815\ubcf4\uc81c\uacf5\uc11c \uc81c\ucd9c) \n",
            "2. \uac00\uc0ac\u00b7\uac04\ubcd1 \ubc29\ubb38\uc9c0\uc6d0\uc0ac\uc5c5 \uc774\uc6a9\uc790 \n",
            "3. \uad6d\uac00\ubcf4\ud6c8\ucc98 \ubcf4\ud6c8\uc7ac\uac00\ubcf5\uc9c0\uc11c\ube44\uc2a4 \uc774\uc6a9\uc790 \n",
            "4. \uae30\ud0c0 \uc720\uc0ac \ub3cc\ubd04\uc11c\ube44\uc2a4 \uc774\uc6a9\uc790 \n",
            "o\n"
          ]
        }
      ]
    },
    {
      "cell_type": "markdown",
      "source": [
        "## 3. \uc784\ubca0\ub529 \uc0dd\uc131 + \ubca1\ud130 DB \uad6c\ucd95 (Chroma \uc0ac\uc6a9)"
      ],
      "metadata": {
        "id": "TNttw0fqkyh2"
      }
    },
    {
      "cell_type": "code",
      "source": [
        "pip install -U langchain-huggingface -q"
      ],
      "metadata": {
        "id": "cIi9y5Yzkkbg",
        "executionInfo": {
          "status": "ok",
          "timestamp": 1748352038607,
          "user_tz": -540,
          "elapsed": 100103,
          "user": {
            "displayName": "\uc784\uc740\uc11d",
            "userId": "11880229837910021675"
          }
        },
        "colab": {
          "base_uri": "https://localhost:8080/"
        },
        "outputId": "54f115e0-81bb-4ae8-9f7f-a52a62bd3cf1"
      },
      "execution_count": null,
      "outputs": [
        {
          "output_type": "stream",
          "name": "stdout",
          "text": [
            "\u001b[2K   \u001b[90m\u2501\u2501\u2501\u2501\u2501\u2501\u2501\u2501\u2501\u2501\u2501\u2501\u2501\u2501\u2501\u2501\u2501\u2501\u2501\u2501\u2501\u2501\u2501\u2501\u2501\u2501\u2501\u2501\u2501\u2501\u2501\u2501\u2501\u2501\u2501\u2501\u2501\u2501\u2501\u2501\u001b[0m \u001b[32m363.4/363.4 MB\u001b[0m \u001b[31m4.6 MB/s\u001b[0m eta \u001b[36m0:00:00\u001b[0m\n",
            "\u001b[2K   \u001b[90m\u2501\u2501\u2501\u2501\u2501\u2501\u2501\u2501\u2501\u2501\u2501\u2501\u2501\u2501\u2501\u2501\u2501\u2501\u2501\u2501\u2501\u2501\u2501\u2501\u2501\u2501\u2501\u2501\u2501\u2501\u2501\u2501\u2501\u2501\u2501\u2501\u2501\u2501\u2501\u2501\u001b[0m \u001b[32m13.8/13.8 MB\u001b[0m \u001b[31m121.9 MB/s\u001b[0m eta \u001b[36m0:00:00\u001b[0m\n",
            "\u001b[2K   \u001b[90m\u2501\u2501\u2501\u2501\u2501\u2501\u2501\u2501\u2501\u2501\u2501\u2501\u2501\u2501\u2501\u2501\u2501\u2501\u2501\u2501\u2501\u2501\u2501\u2501\u2501\u2501\u2501\u2501\u2501\u2501\u2501\u2501\u2501\u2501\u2501\u2501\u2501\u2501\u2501\u2501\u001b[0m \u001b[32m24.6/24.6 MB\u001b[0m \u001b[31m86.8 MB/s\u001b[0m eta \u001b[36m0:00:00\u001b[0m\n",
            "\u001b[2K   \u001b[90m\u2501\u2501\u2501\u2501\u2501\u2501\u2501\u2501\u2501\u2501\u2501\u2501\u2501\u2501\u2501\u2501\u2501\u2501\u2501\u2501\u2501\u2501\u2501\u2501\u2501\u2501\u2501\u2501\u2501\u2501\u2501\u2501\u2501\u2501\u2501\u2501\u2501\u2501\u2501\u2501\u001b[0m \u001b[32m883.7/883.7 kB\u001b[0m \u001b[31m63.2 MB/s\u001b[0m eta \u001b[36m0:00:00\u001b[0m\n",
            "\u001b[2K   \u001b[90m\u2501\u2501\u2501\u2501\u2501\u2501\u2501\u2501\u2501\u2501\u2501\u2501\u2501\u2501\u2501\u2501\u2501\u2501\u2501\u2501\u2501\u2501\u2501\u2501\u2501\u2501\u2501\u2501\u2501\u2501\u2501\u2501\u2501\u2501\u2501\u2501\u2501\u2501\u2501\u2501\u001b[0m \u001b[32m664.8/664.8 MB\u001b[0m \u001b[31m2.0 MB/s\u001b[0m eta \u001b[36m0:00:00\u001b[0m\n",
            "\u001b[2K   \u001b[90m\u2501\u2501\u2501\u2501\u2501\u2501\u2501\u2501\u2501\u2501\u2501\u2501\u2501\u2501\u2501\u2501\u2501\u2501\u2501\u2501\u2501\u2501\u2501\u2501\u2501\u2501\u2501\u2501\u2501\u2501\u2501\u2501\u2501\u2501\u2501\u2501\u2501\u2501\u2501\u2501\u001b[0m \u001b[32m211.5/211.5 MB\u001b[0m \u001b[31m5.5 MB/s\u001b[0m eta \u001b[36m0:00:00\u001b[0m\n",
            "\u001b[2K   \u001b[90m\u2501\u2501\u2501\u2501\u2501\u2501\u2501\u2501\u2501\u2501\u2501\u2501\u2501\u2501\u2501\u2501\u2501\u2501\u2501\u2501\u2501\u2501\u2501\u2501\u2501\u2501\u2501\u2501\u2501\u2501\u2501\u2501\u2501\u2501\u2501\u2501\u2501\u2501\u2501\u2501\u001b[0m \u001b[32m56.3/56.3 MB\u001b[0m \u001b[31m12.4 MB/s\u001b[0m eta \u001b[36m0:00:00\u001b[0m\n",
            "\u001b[2K   \u001b[90m\u2501\u2501\u2501\u2501\u2501\u2501\u2501\u2501\u2501\u2501\u2501\u2501\u2501\u2501\u2501\u2501\u2501\u2501\u2501\u2501\u2501\u2501\u2501\u2501\u2501\u2501\u2501\u2501\u2501\u2501\u2501\u2501\u2501\u2501\u2501\u2501\u2501\u2501\u2501\u2501\u001b[0m \u001b[32m127.9/127.9 MB\u001b[0m \u001b[31m7.4 MB/s\u001b[0m eta \u001b[36m0:00:00\u001b[0m\n",
            "\u001b[2K   \u001b[90m\u2501\u2501\u2501\u2501\u2501\u2501\u2501\u2501\u2501\u2501\u2501\u2501\u2501\u2501\u2501\u2501\u2501\u2501\u2501\u2501\u2501\u2501\u2501\u2501\u2501\u2501\u2501\u2501\u2501\u2501\u2501\u2501\u2501\u2501\u2501\u2501\u2501\u2501\u2501\u2501\u001b[0m \u001b[32m207.5/207.5 MB\u001b[0m \u001b[31m5.4 MB/s\u001b[0m eta \u001b[36m0:00:00\u001b[0m\n",
            "\u001b[2K   \u001b[90m\u2501\u2501\u2501\u2501\u2501\u2501\u2501\u2501\u2501\u2501\u2501\u2501\u2501\u2501\u2501\u2501\u2501\u2501\u2501\u2501\u2501\u2501\u2501\u2501\u2501\u2501\u2501\u2501\u2501\u2501\u2501\u2501\u2501\u2501\u2501\u2501\u2501\u2501\u2501\u2501\u001b[0m \u001b[32m21.1/21.1 MB\u001b[0m \u001b[31m83.9 MB/s\u001b[0m eta \u001b[36m0:00:00\u001b[0m\n",
            "\u001b[?25h"
          ]
        }
      ]
    },
    {
      "cell_type": "code",
      "source": [
        "from langchain_huggingface import HuggingFaceEmbeddings\n",
        "\n",
        "# \ud55c\uad6d\uc5b4 \uc784\ubca0\ub529 \ubaa8\ub378 \ub85c\ub4dc\n",
        "embedding_model = HuggingFaceEmbeddings(model_name=\"jhgan/ko-sbert-sts\") # BM-K/KoSimCSE-roberta"
      ],
      "metadata": {
        "id": "VqUs5mjpke62",
        "executionInfo": {
          "status": "ok",
          "timestamp": 1748352077652,
          "user_tz": -540,
          "elapsed": 39047,
          "user": {
            "displayName": "\uc784\uc740\uc11d",
            "userId": "11880229837910021675"
          }
        },
        "colab": {
          "base_uri": "https://localhost:8080/",
          "height": 401,
          "referenced_widgets": [
            "f01c04a5865b4041b3dcccaa50854f98",
            "b080c871d24f48748fc4505f41aa3c6d",
            "f7ce4e18e6094a079bb1b1275a74397a",
            "3108ff95b2434415a5d92c1200294c5a",
            "21d15f7bfe2f4e4f968e9b0482b0235f",
            "1b66b5a7fa3343ebbb1a1bb2a9789df5",
            "37f72f12feec4bbbbc81c53d84313275",
            "98ea59f71b4e459fb3ae736c9d2fe959",
            "8f4c7151655c46d4aee8b977c9718911",
            "581ab074de3b4ec98598836b802e65c4",
            "b53993462ea4487a923af015e5c77dbd",
            "53a37dab20804abb9030de935e83aa3d",
            "e32854b383a046ccb82d7fa0ca758db2",
            "40f1f87d316f422091cd96ff9ab3aef9",
            "8cd7b867890048e4a71a1d681c3bb7c4",
            "29dfb11d4a2e4014bc7fe816635a45c4",
            "542cb4edcd6c4e0bac93fb7f8db7435e",
            "9b7c52fdcfab4b6da2a9df23a8616405",
            "42fc5d9ac93b4b04a79fd473d5dd736f",
            "10d8b683fec048cd8120ecf67fa707a4",
            "8facf3e76cd5400b9a37e6a91feeafa5",
            "9dffac2f3b854acca5ccd1446f50afeb",
            "1750f91b03884dedbab82f5e9ade2705",
            "6447078be749437c82d47ab137c15393",
            "e9a6d9f13b20477690890e0e379ba728",
            "bf221904ff6045f08ef304c0832e44d9",
            "49a8645823f14f948569fe2337d75abe",
            "a58d2b5eb4d2453bbde85dc769292b27",
            "2b79d04d059849aa91490c479c2dcb19",
            "bf2077ff07eb4261bb2975a871e5bccd",
            "d0de6b95bf7a41468a049b415d9798c6",
            "daf6d9840b7d4740a412be38c488e8f2",
            "aca4139349c4406b95924c2cf0503177",
            "8debf1b095b44951b2d2988cee16a608",
            "9c3236288fcd48729b5b732a9ea2a7cd",
            "e76d7987ad4a47138cb510abb000aa90",
            "01d6e37b2dfa4817ad07114977be03af",
            "c4cadbae05444352bc5b703a1de2a645",
            "bc42bbca4afa43a586c8eeb1d5f259a6",
            "9e0c2323e1554588a0eddb3ab29a897c",
            "8e54323b5c4f45cb882c0181943f27f5",
            "b4559d39265a4e3d8fd157ac94ee8ea2",
            "75ce15b92bfe4e80ad15282ab9df0438",
            "018a5e1ee89841aaa622429876c397d0",
            "f7c638714596421fa4d57201345319f7",
            "44fe8462be4d4496a897a9e9e879c34e",
            "0e93b5af8b6b458ba190b28999e1958f",
            "0042573372f4423a968ae67caaa40a9e",
            "282c31ed1e914d25b92f8796433d867e",
            "4427aa2049544be984da67dfaebdd81c",
            "1d2487052d2244348c08518bb5422365",
            "2f4efe8dff244b34a7e163f9824d9b33",
            "f72639dc0d22462bb76ed351cc78ef0a",
            "09a96cb2536f4c8793616dda528d9554",
            "2fe93adb751c48fe8cb429175f7b1e08",
            "814e62083c4f484183e20e0bab4e7b4d",
            "13289d3b3f614037a2b558a7e51fb5db",
            "875f5b2e100c49e8aa3d1b90ace88cd7",
            "10ea7d2e0e234e45826213bc740b4e0b",
            "22627d4cf19e4c3788cc8c74872258f6",
            "0f1141f860ce4b0a8822142072c04f5d",
            "72e9c5d91c284e1fb97797f079d2a536",
            "7f95235f6c674ffa8cfbe55d0d65288b",
            "397987c31f6a404993e72d019ad8b6ed",
            "1afad5b791414d3bbdfe215823288d5c",
            "efd172f321eb480cafc57e8de93fcb88",
            "200e3751272e49b59aeb15b1b2ab846f",
            "edfff14864a14424b278b3b998a00a68",
            "5650499ccc8547e4b0ab8b8092908d79",
            "28ed7dec9b0040e4a5fa5255090cec07",
            "5233c17b0c7a43e682e58e4dc920dc11",
            "7558131f9ea6442f933802b0872532d3",
            "f88a8d3755ec452ea09f78219d8c9b24",
            "550207095d254f24a56a2077da51d503",
            "78e695ab447b469da21d2cca361cf441",
            "eb81bec6a1f24cbc841c8729bed4621d",
            "6dd3b98abaa1403ca13a0594fa713f6a",
            "98a736781e1b48fc9e922993320104d9",
            "faf5765e41914587a130a9c81234cc4f",
            "c46d3f0eddf8460db017e4b58f4ed384",
            "36f314710afc444b9b6621d450da12bf",
            "8ad21e79f4ea4021a0d6ab4f15125ef7",
            "39353b22eb3c44e899f3204c64b279a6",
            "dcc569fcce88425e92141f406756bf86",
            "42e071a3177449f8bb0d44b06365b1ba",
            "079483130b3c497aa42a5539705b6d1d",
            "15593f58d4224ce1b930f397d32ff95c",
            "ff9d7012f515463f809f667893d067fb",
            "6a0feb0b70a54278b195fd2412449802",
            "6af907da95054972b48a65fbc56c2d2f",
            "02735fe9f3ca4d4aa99c58743375d8df",
            "00006a8e18e44c7fb9525661c7d07aae",
            "d2069a1d714b48e7980dee10d95b7962",
            "8e614f56ee7a494aac10d0547900fe89",
            "630cc9ab467d48b28d18bdf4645dfd74",
            "863d360dac81489397a4dad59fc775c7",
            "b9cad476831c4952ba896e5e79a716a6",
            "f26f4b0452d04cb6883ba31fe71ea1be",
            "0738ee86aa8f441c8f32f4881dcec383",
            "4b766009c4d34b3db68ddc81006e2c64",
            "34b548556fbb44cf9fcff6694a601d23",
            "01e05a78678a44da896be2c15b6d84c9",
            "ac88c190cc874bd5ab539ff3e67481a6",
            "ad14dda71b7b4b339a13cce5b25d4cf8",
            "edc2324ed5b64f4e93f57ea3810a6fe5",
            "ba131e9edc5f4064b70cc29522882d0c",
            "e85177d206f541e6a86f25c78880439e",
            "1f65dfbb6735491cb44cf81552c5a34c",
            "79803c474f984016a075f884f1f3ec88",
            "e757969afb8b4eebb17cf5c941c2f398",
            "8e8ec2e52f1141fc995ef739c98f6243",
            "2369e4fb3efc4e80b5e6c3440457d2ff",
            "77e7f2d90dbf4db4a6dbef229ac0abe4",
            "12f1e8d383b940a58e5e859a37fdea1f",
            "a887d067357749a7b855a419415df897",
            "89c78001ad4f41838a6a1b29245e6f76",
            "d4c22a2ef3f342658c9545052666a690",
            "b34853ead3b047f49cc3d4a542d9ca88",
            "144e188d3d9740a897a7a9ea1b88f86c",
            "9ff598b6ebb4481bb6921edc144f9a4b",
            "509fc144192e4476bef771be8740581c",
            "4f38a198d37d4eeba88507026614ea37",
            "9b7c61ea381342d3b68edd49cb402151",
            "141a6843ab9943b1b922480117947b39",
            "0643c875d8a643278136464ec86b62b7",
            "ca4713da1c604169af702bf063db86a0",
            "d29f84d04b6e410a8b72855772e5bbad",
            "cfb997105de6484cb30c297ae98219d6",
            "c60788b81fc54a048b933fc2928db791",
            "8c4a46a0c6634fb8b25cbcf969e3c29f",
            "8735eeeb3bc54c0f8751b2d64999b153",
            "6f51883060b84fd38db249d5f529c885"
          ]
        },
        "outputId": "c4d70a9e-9d8c-4084-e3d1-f0b4d169f63d"
      },
      "execution_count": null,
      "outputs": [
        {
          "output_type": "display_data",
          "data": {
            "text/plain": [
              "modules.json:   0%|          | 0.00/229 [00:00<?, ?B/s]"
            ],
            "application/vnd.jupyter.widget-view+json": {
              "version_major": 2,
              "version_minor": 0,
              "model_id": "f01c04a5865b4041b3dcccaa50854f98"
            }
          },
          "metadata": {}
        },
        {
          "output_type": "display_data",
          "data": {
            "text/plain": [
              "config_sentence_transformers.json:   0%|          | 0.00/123 [00:00<?, ?B/s]"
            ],
            "application/vnd.jupyter.widget-view+json": {
              "version_major": 2,
              "version_minor": 0,
              "model_id": "53a37dab20804abb9030de935e83aa3d"
            }
          },
          "metadata": {}
        },
        {
          "output_type": "display_data",
          "data": {
            "text/plain": [
              "README.md:   0%|          | 0.00/4.44k [00:00<?, ?B/s]"
            ],
            "application/vnd.jupyter.widget-view+json": {
              "version_major": 2,
              "version_minor": 0,
              "model_id": "1750f91b03884dedbab82f5e9ade2705"
            }
          },
          "metadata": {}
        },
        {
          "output_type": "display_data",
          "data": {
            "text/plain": [
              "sentence_bert_config.json:   0%|          | 0.00/53.0 [00:00<?, ?B/s]"
            ],
            "application/vnd.jupyter.widget-view+json": {
              "version_major": 2,
              "version_minor": 0,
              "model_id": "8debf1b095b44951b2d2988cee16a608"
            }
          },
          "metadata": {}
        },
        {
          "output_type": "display_data",
          "data": {
            "text/plain": [
              "config.json:   0%|          | 0.00/620 [00:00<?, ?B/s]"
            ],
            "application/vnd.jupyter.widget-view+json": {
              "version_major": 2,
              "version_minor": 0,
              "model_id": "f7c638714596421fa4d57201345319f7"
            }
          },
          "metadata": {}
        },
        {
          "output_type": "display_data",
          "data": {
            "text/plain": [
              "pytorch_model.bin:   0%|          | 0.00/443M [00:00<?, ?B/s]"
            ],
            "application/vnd.jupyter.widget-view+json": {
              "version_major": 2,
              "version_minor": 0,
              "model_id": "814e62083c4f484183e20e0bab4e7b4d"
            }
          },
          "metadata": {}
        },
        {
          "output_type": "display_data",
          "data": {
            "text/plain": [
              "tokenizer_config.json:   0%|          | 0.00/538 [00:00<?, ?B/s]"
            ],
            "application/vnd.jupyter.widget-view+json": {
              "version_major": 2,
              "version_minor": 0,
              "model_id": "200e3751272e49b59aeb15b1b2ab846f"
            }
          },
          "metadata": {}
        },
        {
          "output_type": "display_data",
          "data": {
            "text/plain": [
              "vocab.txt:   0%|          | 0.00/248k [00:00<?, ?B/s]"
            ],
            "application/vnd.jupyter.widget-view+json": {
              "version_major": 2,
              "version_minor": 0,
              "model_id": "98a736781e1b48fc9e922993320104d9"
            }
          },
          "metadata": {}
        },
        {
          "output_type": "display_data",
          "data": {
            "text/plain": [
              "model.safetensors:   0%|          | 0.00/442M [00:00<?, ?B/s]"
            ],
            "application/vnd.jupyter.widget-view+json": {
              "version_major": 2,
              "version_minor": 0,
              "model_id": "6a0feb0b70a54278b195fd2412449802"
            }
          },
          "metadata": {}
        },
        {
          "output_type": "display_data",
          "data": {
            "text/plain": [
              "tokenizer.json:   0%|          | 0.00/495k [00:00<?, ?B/s]"
            ],
            "application/vnd.jupyter.widget-view+json": {
              "version_major": 2,
              "version_minor": 0,
              "model_id": "4b766009c4d34b3db68ddc81006e2c64"
            }
          },
          "metadata": {}
        },
        {
          "output_type": "display_data",
          "data": {
            "text/plain": [
              "special_tokens_map.json:   0%|          | 0.00/112 [00:00<?, ?B/s]"
            ],
            "application/vnd.jupyter.widget-view+json": {
              "version_major": 2,
              "version_minor": 0,
              "model_id": "8e8ec2e52f1141fc995ef739c98f6243"
            }
          },
          "metadata": {}
        },
        {
          "output_type": "display_data",
          "data": {
            "text/plain": [
              "config.json:   0%|          | 0.00/190 [00:00<?, ?B/s]"
            ],
            "application/vnd.jupyter.widget-view+json": {
              "version_major": 2,
              "version_minor": 0,
              "model_id": "4f38a198d37d4eeba88507026614ea37"
            }
          },
          "metadata": {}
        }
      ]
    },
    {
      "cell_type": "code",
      "source": [
        "'''texts = [doc.page_content for doc in split_docs]\n",
        "embeddings = embedding_model.embed_documents(texts)  # \uc784\ubca0\ub529 \ubca1\ud130 \uc9c1\uc811 \uc0dd\uc131(chunk \ub2e8\uc704)\n",
        "\n",
        "print(len(embeddings))\n",
        "print(len(embeddings[0])) # 768\ucc28\uc6d0\n",
        "print(embeddings[0][:5]) # \ubca1\ud130 \uc77c\ubd80 \ucd9c\ub825'''"
      ],
      "metadata": {
        "colab": {
          "base_uri": "https://localhost:8080/",
          "height": 54
        },
        "id": "UMqW37tiPPjQ",
        "executionInfo": {
          "status": "ok",
          "timestamp": 1748352077663,
          "user_tz": -540,
          "elapsed": 10,
          "user": {
            "displayName": "\uc784\uc740\uc11d",
            "userId": "11880229837910021675"
          }
        },
        "outputId": "47c1b5c4-c18b-4e5d-a5f0-d7e865283cf7"
      },
      "execution_count": null,
      "outputs": [
        {
          "output_type": "execute_result",
          "data": {
            "text/plain": [
              "'texts = [doc.page_content for doc in split_docs]\\nembeddings = embedding_model.embed_documents(texts)  # \uc784\ubca0\ub529 \ubca1\ud130 \uc9c1\uc811 \uc0dd\uc131(chunk \ub2e8\uc704)\\n\\nprint(len(embeddings))\\nprint(len(embeddings[0])) # 768\ucc28\uc6d0\\nprint(embeddings[0][:5]) # \ubca1\ud130 \uc77c\ubd80 \ucd9c\ub825'"
            ],
            "application/vnd.google.colaboratory.intrinsic+json": {
              "type": "string"
            }
          },
          "metadata": {},
          "execution_count": 8
        }
      ]
    },
    {
      "cell_type": "code",
      "source": [
        "pip install -U langchain-chroma -q"
      ],
      "metadata": {
        "id": "OmRlCzV8mDbh"
      },
      "execution_count": null,
      "outputs": []
    },
    {
      "cell_type": "code",
      "source": [
        "import os\n",
        "from langchain_chroma import Chroma\n",
        "from hashlib import md5\n",
        "\n",
        "def file_hash(path):\n",
        "    with open(path, 'rb') as f:\n",
        "        return md5(f.read()).hexdigest()\n",
        "\n",
        "def get_saved_hash(hash_path):\n",
        "    if os.path.exists(hash_path):\n",
        "        with open(hash_path, 'r') as f:\n",
        "            return f.read()\n",
        "    return None\n",
        "\n",
        "def save_hash(hash_path, hash_value):\n",
        "    with open(hash_path, 'w') as f:\n",
        "        f.write(hash_value)\n",
        "\n",
        "def check_or_build_vectorstore(pdf_path, split_docs, embedding_model,\n",
        "                               db_path=\"./chroma_db\", hash_path=\"./pdf.hash\"):\n",
        "    current_hash = file_hash(pdf_path)\n",
        "    saved_hash = get_saved_hash(hash_path)\n",
        "\n",
        "    if os.path.exists(db_path) and os.path.isdir(db_path) and current_hash == saved_hash:\n",
        "        vectorstore = Chroma(\n",
        "            persist_directory=db_path,\n",
        "            embedding_function=embedding_model\n",
        "        )\n",
        "        print(\"\uae30\uc874 Chroma DB \ubd88\ub7ec\uc624\uae30 \uc644\ub8cc\")\n",
        "    else:\n",
        "        vectorstore = Chroma.from_documents(\n",
        "            documents=split_docs,\n",
        "            embedding=embedding_model,\n",
        "            persist_directory=db_path\n",
        "        )\n",
        "        save_hash(hash_path, current_hash)\n",
        "        print(\"\uc0c8\ub85c\uc6b4 Chroma DB \uc0dd\uc131 \ubc0f \ud574\uc2dc \uc800\uc7a5 \uc644\ub8cc\")\n",
        "\n",
        "    return vectorstore"
      ],
      "metadata": {
        "id": "i6jHbPiqLCjf"
      },
      "execution_count": null,
      "outputs": []
    },
    {
      "cell_type": "code",
      "source": [
        "vectorstore = check_or_build_vectorstore(pdf_path, split_docs, embedding_model)"
      ],
      "metadata": {
        "colab": {
          "base_uri": "https://localhost:8080/"
        },
        "id": "JlH6ccuQAp0n",
        "executionInfo": {
          "status": "ok",
          "timestamp": 1748352086186,
          "user_tz": -540,
          "elapsed": 1265,
          "user": {
            "displayName": "\uc784\uc740\uc11d",
            "userId": "11880229837910021675"
          }
        },
        "outputId": "6aee21d7-da5e-4c97-a480-48fa40e4c807"
      },
      "execution_count": null,
      "outputs": [
        {
          "output_type": "stream",
          "name": "stdout",
          "text": [
            "\uc0c8\ub85c\uc6b4 Chroma DB \uc0dd\uc131 \ubc0f \ud574\uc2dc \uc800\uc7a5 \uc644\ub8cc\n"
          ]
        }
      ]
    },
    {
      "cell_type": "markdown",
      "source": [
        "## 4. Retriever \uad6c\uc131"
      ],
      "metadata": {
        "id": "DSrUA2inTT0O"
      }
    },
    {
      "cell_type": "code",
      "source": [
        "retriever = vectorstore.as_retriever(\n",
        "    search_type=\"mmr\",\n",
        "    search_kwargs={\"k\": 3, \"lambda_mult\": 0.5}\n",
        ")"
      ],
      "metadata": {
        "id": "4yoguV1hRM6v"
      },
      "execution_count": null,
      "outputs": []
    },
    {
      "cell_type": "code",
      "source": [
        "docs = retriever.invoke(\"\ucc28\uc0c1\uc704 \uc870\uac74\uc774 \ubb50\uc57c?\")\n",
        "\n",
        "for i, doc in enumerate(docs):\n",
        "    print(f'\\n[\ubb38\uc11c {i+1}]\\n{doc.page_content}')"
      ],
      "metadata": {
        "colab": {
          "base_uri": "https://localhost:8080/"
        },
        "id": "EKgffS-6mjoL",
        "executionInfo": {
          "status": "ok",
          "timestamp": 1748352086338,
          "user_tz": -540,
          "elapsed": 139,
          "user": {
            "displayName": "\uc784\uc740\uc11d",
            "userId": "11880229837910021675"
          }
        },
        "outputId": "39334ed2-a599-440d-9b61-00e23b9dc376"
      },
      "execution_count": null,
      "outputs": [
        {
          "output_type": "stream",
          "name": "stdout",
          "text": [
            "\n",
            "[\ubb38\uc11c 1]\n",
            "\ub2a5) \n",
            " \n",
            "\u25a3 \uc720\uc0ac\uc911\ubcf5\uc0ac\uc5c5 \uc790\uaca9 \ud574\ub2f9\uc790 \n",
            "\u203b \ub178\uc778\ub9de\ucda4\ub3cc\ubd04\uc11c\ube44\uc2a4\ub294 \uc608\ubc29\uc801 \ub3cc\ubd04\uc11c\ube44\uc2a4\ub85c, \u2460~\u2464\uae4c\uc9c0\uc758 \uc720\uc0ac\uc911\ubcf5\uc0ac\uc5c5\uc740 \ub178\uc778\ub9de\ucda4\ub3cc\n",
            "\ubd04\uc11c\ube44\uc2a4 \ubcf4\ub2e4 \uc6b0\uc120\uc801\uc73c\ub85c \uc81c\uacf5 \n",
            "1. \ub178\uc778\uc7a5\uae30\uc694\uc591\ubcf4\ud5d8 \ub4f1\uae09\uc790 \n",
            "\u203b \ub178\uc778\uc7a5\uae30\uc694\uc591\ubcf4\ud5d8\uc740 \ub178\uc778\ub9de\ucda4\ub3cc\ubd04\uc11c\ube44\uc2a4\uc758 \uc120\uc21c\uc704\ub85c\uc11c \uc7a5\uae30\uc694\uc591 \ub4f1\uae09\uc790\uac00 \uc7a5\n",
            "\uae30\uc694\uc591\uc744 \ud3ec\uae30\ud558\uace0 \ub178\uc778\ub9de\ucda4\ub3cc\ubd04\uc11c\ube44\uc2a4\ub97c \uc2e0\uccad\ud558\ub294 \uac83\uc740 \ubd88\uac00\ud568 \n",
            "\u2460 \uc7a5\uae30\uc694\uc591 \ub4f1\uae09 \uc720\ud6a8\uae30\uac04 \ub9cc\ub8cc\uc790(\uc2e0\uccad \uac00\ub2a5\ud558\uace0 \ub178\uc778\uc7a5\uae30\uc694\uc591\ubcf4\ud5d8 \ub4f1\uae09\uace0\uc9c0\uac00 \n",
            "\uc694\uccad\ub418\uace0, \n",
            "\uc2dc\uc7a5\u00b7\uad70\uc218\u00b7\uad6c\uccad\uc7a5\uc774 \uc11c\ube44\uc2a4\uac00 \ud544\uc694\ud558\ub2e4\uace0 \uc778\uc815\ud558\ub294 \uacbd\uc6b0 \uc608\uc678\uc801\uc73c\ub85c \uc2e0\uccad \uac00\ub2a5)\n",
            "\n",
            "[\ubb38\uc11c 2]\n",
            "1. \uc11c\ube44\uc2a4 \ub300\uc0c1\uc790 \uc120\uc815 \n",
            " \n",
            "\uac00. \uc11c\ube44\uc2a4 \uc2e0\uccad \n",
            "\u2022 \n",
            "\ub178\uc778\ub9de\ucda4\ub3cc\ubd04\uc11c\ube44\uc2a4\ub97c \ud544\uc694\ub85c \ud558\ub294 \ub178\uc778 \ub610\ub294 \uadf8 \uac00\uc871 \ub4f1\uc774 \uc74d\u00b7\uba74\u00b7\ub3d9 \ud589\uc815\ubcf5\uc9c0\uc13c\n",
            "\ud130 \ubc29\ubb38 \ub4f1\uc744 \ud1b5\ud574 \uc11c\ube44\uc2a4 \uc2e0\uccad \n",
            " \n",
            "\u25a3 \uc11c\ube44\uc2a4 \uc2e0\uccad\uc790\uaca9 \n",
            "\u2022 \n",
            "65\uc138 \uc774\uc0c1 \uad6d\ubbfc\uae30\ucd08\uc0dd\ud65c\uc218\uae09\uc790, \u2461\ucc28\uc0c1\uc704\uacc4\uce35 \ub610\ub294 \u2462\uae30\ucd08\uc5f0\uae08\uc218\uae09\uc790\ub85c\uc11c \uc720\uc0ac\uc911\n",
            "\ubcf5\uc0ac\uc5c5 \uc790\uaca9\uc5d0 \ud574\ub2f9\ub418\uc9c0 \uc54a\ub294 \uc790 \n",
            "(\ub2e8, \uc2dc\uc7a5\u00b7\uad70\uc218\u00b7\uad6c\uccad\uc7a5\uc774 \uc11c\ube44\uc2a4\uac00 \ud544\uc694\ud558\ub2e4\uace0 \uc778\uc815\ud558\ub294 \uacbd\uc6b0 \uc608\uc678\uc801\uc73c\ub85c \uc81c\uacf5 \uac00\n",
            "\ub2a5) \n",
            " \n",
            "\u25a3 \uc720\uc0ac\uc911\ubcf5\uc0ac\uc5c5 \uc790\uaca9 \ud574\ub2f9\uc790 \n",
            "\u203b \ub178\uc778\ub9de\ucda4\ub3cc\ubd04\uc11c\ube44\uc2a4\ub294 \uc608\ubc29\uc801 \ub3cc\ubd04\uc11c\ube44\uc2a4\ub85c, \u2460~\u2464\uae4c\uc9c0\uc758 \uc720\uc0ac\uc911\ubcf5\uc0ac\uc5c5\uc740 \ub178\uc778\ub9de\ucda4\ub3cc\n",
            "\n",
            "[\ubb38\uc11c 3]\n",
            "\u00b7\ud310\ub2e8\ud558\uc5ec \uc0ac\uc5c5\ubcc4 \uc720\uc0ac \uc5ec\ubd80 \uacb0\uc815 \ubc0f \uc11c\ube44\uc2a4 \uc81c\uacf5 \uc5ec\ubd80 \ud310\ub2e8 (\uc608: \u25cb\u25cb\uc2dc \n",
            "\ub3c4\uc2dc\uc7ac\uc0dd\ub274\ub51c\uc0ac\uc5c5 \u2013 \uc720\uc0ac\uc131 \ud574\ub2f9\uc5ec\ubd80, \u25cb\u25cb\uc2dc \uc7ac\uac00\uc11c\ube44\uc2a4 \u2013 \uc720\uc0ac\uc131 \ud574\ub2f9/\n",
            "\ubbf8\ud574\ub2f9) \n",
            " \n",
            "\u203b \ub178\uc778\ub9de\ucda4\ub3cc\ubd04\uc11c\ube44\uc2a4\ub294 \uc7a5\uae30\uc694\uc591\ub4f1\uae09 \uc678 \ud310\uc815 \ub178\uc778\uc5d0\uac8c \ub2e4\uc591\ud55c \uc11c\ube44\uc2a4\ub97c \ud1b5\ud569\uc801\uc73c\ub85c \n",
            "\uc81c\uacf5\ud568\uc73c\ub85c\uc368 \ub178\uc778\ub4e4\uc758 \uc790\ub9bd\uc0dd\ud65c\uc744 \uc9c0\uc6d0\ud558\uace0\uc790 \ud558\ub294 \uc608\ubc29\uc801 \uc11c\ube44\uc2a4\ub85c, \uc544\ub798\uc758 \uc720\uc0ac\uc911\ubcf5\n",
            "\uc0ac\uc5c5 \uc790\uaca9 \ud574\ub2f9\uc790\ub294 \ub178\uc778\ub9de\ucda4\ub3cc\ubd04\uc11c\ube44\uc2a4 \uc2e0\uccad \uc2dc \uc6b0\uc120\uc81c\uc678 \ub300\uc0c1\uc784.\n"
          ]
        }
      ]
    },
    {
      "cell_type": "markdown",
      "source": [
        "## 5. LLM \ubd88\ub7ec\uc624\uae30"
      ],
      "metadata": {
        "id": "1IBigv7J1YBV"
      }
    },
    {
      "cell_type": "code",
      "source": [
        "import os\n",
        "import requests\n",
        "from typing import Optional, List, ClassVar\n",
        "\n",
        "from langchain_core.language_models import LLM\n",
        "\n",
        "\n",
        "# API Key\n",
        "os.environ[\"SOLAR_API_KEY\"] = \"????????????/\"\n",
        "\n",
        "# SolarLLM \uc815\uc758\n",
        "class SolarLLM(LLM):\n",
        "    model: ClassVar[str] = \"solar-1-mini-chat\"\n",
        "    api_url: ClassVar[str] = \"https://api.upstage.ai/v1/solar/chat/completions\"\n",
        "    api_key: ClassVar[str] = os.environ.get(\"SOLAR_API_KEY\")\n",
        "\n",
        "    def _call(self, prompt, stop: Optional[List[str]] = None) -> str:\n",
        "        headers = {\n",
        "            \"Authorization\": f\"Bearer {self.api_key}\",\n",
        "            \"Content-Type\": \"application/json\"\n",
        "        }\n",
        "\n",
        "        payload = {\n",
        "            \"model\": self.model,\n",
        "            \"messages\": [\n",
        "                {\"role\": \"system\", \"content\": \"\ub2f9\uc2e0\uc740 \uc720\ub2a5\ud55c \ud55c\uad6d\uc5b4 \ube44\uc11c\uc785\ub2c8\ub2e4.\"},\n",
        "                {\"role\": \"user\", \"content\": prompt}\n",
        "            ],\n",
        "            \"top_p\": 0.9,\n",
        "            \"temperature\": 0.7\n",
        "        }\n",
        "\n",
        "        response = requests.post(self.api_url, headers=headers, json=payload)\n",
        "        response.raise_for_status()\n",
        "        result = response.json()\n",
        "        return result['choices'][0]['message']['content'].strip()\n",
        "\n",
        "    @property\n",
        "    def _llm_type(self) -> str:\n",
        "        return \"solar\""
      ],
      "metadata": {
        "id": "aEZqfykB1gCo"
      },
      "execution_count": null,
      "outputs": []
    },
    {
      "cell_type": "markdown",
      "source": [
        "## 6. Prompt Template"
      ],
      "metadata": {
        "id": "iqS-HXw3Tv4W"
      }
    },
    {
      "cell_type": "code",
      "source": [
        "from langchain.prompts import PromptTemplate\n",
        "\n",
        "custom_prompt = PromptTemplate(\n",
        "    input_variables=[\"context\", \"question\"],\n",
        "    template=\"\"\"\n",
        "      \ub2f9\uc2e0\uc740 \uc804\ubb38 \ubb38\uc11c \uae30\ubc18 \uc9c8\ubb38\uc5d0 \ub2f5\ubcc0\ud558\ub294 \ud55c\uad6d\uc5b4 \uc778\uacf5\uc9c0\ub2a5\uc785\ub2c8\ub2e4.\n",
        "      \uc544\ub798\ub294 \ucc38\uace0\ud560 \uc218 \uc788\ub294 \ubb38\uc11c\uc640 \uc0ac\uc6a9\uc790\uc758 \uc9c8\ubb38\uc785\ub2c8\ub2e4. \ubb38\uc11c \ub0b4\uc6a9\uc744 \uae30\ubc18\uc73c\ub85c \uc815\ud655\ud558\uace0 \uac04\uacb0\ud558\uac8c \ud55c\uad6d\uc5b4\ub85c \ub2f5\ubcc0\ud558\uc138\uc694.\n",
        "\n",
        "      [Retrieve \ubb38\uc11c]\n",
        "      {context}\n",
        "\n",
        "      [\uc9c8\ubb38]\n",
        "      {question}\n",
        "\n",
        "      [\ub2f5\ubcc0]\n",
        "      \"\"\"\n",
        ")"
      ],
      "metadata": {
        "id": "6KtyWTdYTlUL"
      },
      "execution_count": null,
      "outputs": []
    },
    {
      "cell_type": "markdown",
      "source": [
        "## 7. LLMChain \uc0dd\uc131, QA"
      ],
      "metadata": {
        "id": "CuTSEv2DJgZb"
      }
    },
    {
      "cell_type": "code",
      "source": [
        "from langchain.chains import LLMChain\n",
        "\n",
        "llm = SolarLLM()\n",
        "old_qa_chain = LLMChain(llm=llm, prompt=custom_prompt)\n",
        "qa_chain = custom_prompt | llm"
      ],
      "metadata": {
        "id": "irvV7fmG6OoH",
        "executionInfo": {
          "status": "ok",
          "timestamp": 1748352086535,
          "user_tz": -540,
          "elapsed": 71,
          "user": {
            "displayName": "\uc784\uc740\uc11d",
            "userId": "11880229837910021675"
          }
        },
        "colab": {
          "base_uri": "https://localhost:8080/"
        },
        "outputId": "67b2d831-e1c6-42a1-85e8-153638701875"
      },
      "execution_count": null,
      "outputs": [
        {
          "output_type": "stream",
          "name": "stderr",
          "text": [
            "<ipython-input-16-3270f1a5b64a>:4: LangChainDeprecationWarning: The class `LLMChain` was deprecated in LangChain 0.1.17 and will be removed in 1.0. Use :meth:`~RunnableSequence, e.g., `prompt | llm`` instead.\n",
            "  old_qa_chain = LLMChain(llm=llm, prompt=custom_prompt)\n"
          ]
        }
      ]
    },
    {
      "cell_type": "code",
      "source": [
        "# \uc0ac\uc6a9\uc790 \uc9c8\ubb38\n",
        "question = (\n",
        "    \"\uc548\ub155\ud558\uc138\uc694. \uc800\ud76c \uc5b4\uba38\ub2c8\uaed8\uc11c \ub9cc 65\uc138 \uc774\uc0c1\uc774\uc2dc\uace0, \"\n",
        "    \"\uae30\ucd08\uc5f0\uae08\uc744 \ubc1b\uace0 \uacc4\uc2ed\ub2c8\ub2e4.\\n\"\n",
        "    \"\ub610\ud55c, \ud604\uc7ac \ud63c\uc790 \uc9c0\ub0b4\uc2dc\uba70 \uac74\uac15\ub3c4 \ub9ce\uc774 \uc548 \uc88b\uc73c\uc2e0\ub370,\\n\"\n",
        "    \"\ub178\uc778\ub9de\ucda4\ub3cc\ubd04\uc11c\ube44\uc2a4\ub97c \uc2e0\uccad\ud560 \uc218 \uc788\uc744\uae4c\uc694?\"\n",
        ")\n",
        "\n",
        "# \uad00\ub828 \ubb38\uc11c \uac80\uc0c9\n",
        "docs = retriever.invoke(question)\n",
        "\n",
        "# \ubb38\uc11c \ub0b4\uc6a9\uc744 \ud558\ub098\ub85c \ud569\uce68\n",
        "context = \"\\n\\n\".join([doc.page_content for doc in docs])\n",
        "\n",
        "# LLMChain \uc2e4\ud589\n",
        "response = old_qa_chain.invoke({\"context\": context, \"question\": question})\n",
        "response"
      ],
      "metadata": {
        "id": "pZmFc9Hv1TRc",
        "colab": {
          "base_uri": "https://localhost:8080/"
        },
        "executionInfo": {
          "status": "ok",
          "timestamp": 1748354821284,
          "user_tz": -540,
          "elapsed": 1717,
          "user": {
            "displayName": "\uc784\uc740\uc11d",
            "userId": "11880229837910021675"
          }
        },
        "outputId": "957f7f42-35a3-4ade-d77f-b3fc87afd0da"
      },
      "execution_count": null,
      "outputs": [
        {
          "output_type": "execute_result",
          "data": {
            "text/plain": [
              "{'context': '1. \uc11c\ube44\uc2a4 \ub300\uc0c1\uc790 \uc120\uc815 \\n \\n\uac00. \uc11c\ube44\uc2a4 \uc2e0\uccad \\n\u2022 \\n\ub178\uc778\ub9de\ucda4\ub3cc\ubd04\uc11c\ube44\uc2a4\ub97c \ud544\uc694\ub85c \ud558\ub294 \ub178\uc778 \ub610\ub294 \uadf8 \uac00\uc871 \ub4f1\uc774 \uc74d\u00b7\uba74\u00b7\ub3d9 \ud589\uc815\ubcf5\uc9c0\uc13c\\n\ud130 \ubc29\ubb38 \ub4f1\uc744 \ud1b5\ud574 \uc11c\ube44\uc2a4 \uc2e0\uccad \\n \\n\u25a3 \uc11c\ube44\uc2a4 \uc2e0\uccad\uc790\uaca9 \\n\u2022 \\n65\uc138 \uc774\uc0c1 \uad6d\ubbfc\uae30\ucd08\uc0dd\ud65c\uc218\uae09\uc790, \u2461\ucc28\uc0c1\uc704\uacc4\uce35 \ub610\ub294 \u2462\uae30\ucd08\uc5f0\uae08\uc218\uae09\uc790\ub85c\uc11c \uc720\uc0ac\uc911\\n\ubcf5\uc0ac\uc5c5 \uc790\uaca9\uc5d0 \ud574\ub2f9\ub418\uc9c0 \uc54a\ub294 \uc790 \\n(\ub2e8, \uc2dc\uc7a5\u00b7\uad70\uc218\u00b7\uad6c\uccad\uc7a5\uc774 \uc11c\ube44\uc2a4\uac00 \ud544\uc694\ud558\ub2e4\uace0 \uc778\uc815\ud558\ub294 \uacbd\uc6b0 \uc608\uc678\uc801\uc73c\ub85c \uc81c\uacf5 \uac00\\n\ub2a5) \\n \\n\u25a3 \uc720\uc0ac\uc911\ubcf5\uc0ac\uc5c5 \uc790\uaca9 \ud574\ub2f9\uc790 \\n\u203b \ub178\uc778\ub9de\ucda4\ub3cc\ubd04\uc11c\ube44\uc2a4\ub294 \uc608\ubc29\uc801 \ub3cc\ubd04\uc11c\ube44\uc2a4\ub85c, \u2460~\u2464\uae4c\uc9c0\uc758 \uc720\uc0ac\uc911\ubcf5\uc0ac\uc5c5\uc740 \ub178\uc778\ub9de\ucda4\ub3cc\\n\\n\u2460 \uc7a5\uae30\uc694\uc591 \ub4f1\uae09 \uc720\ud6a8\uae30\uac04 \ub9cc\ub8cc\uc790(\uc2e0\uccad \uac00\ub2a5\ud558\uace0 \ub178\uc778\uc7a5\uae30\uc694\uc591\ubcf4\ud5d8 \ub4f1\uae09\uace0\uc9c0\uac00 \\n\uc694\uccad\ub418\uace0, \\n\uc2dc\uc7a5\u00b7\uad70\uc218\u00b7\uad6c\uccad\uc7a5\uc774 \uc11c\ube44\uc2a4\uac00 \ud544\uc694\ud558\ub2e4\uace0 \uc778\uc815\ud558\ub294 \uacbd\uc6b0 \uc608\uc678\uc801\uc73c\ub85c \uc2e0\uccad \uac00\ub2a5) \\n\u203b \uc2e0\uccad \ub2f9\uc2dc \ubcf8\uc778 \uc9c8\ubcd1\u00b7\uc0ac\uc720 \ub4f1\uc73c\ub85c \uc7a5\uae30\uc694\uc591 \uc2e0\uccad\uc774 \uc5b4\ub824\uc6b4 \uacbd\uc6b0, \ud574\ub2f9 \uc0ac\uc720\ub97c \\n\uae30\uc7ac\ud55c \uc7a5\uae30\uc694\uc591\uc815\ubcf4\uc81c\uacf5\uc2e0\uccad\uc11c(\ud589\ubcf5e\uc74c)\ub97c \ud1b5\ud574 \ud655\uc778 \uc2dc \ub178\uc778\ub9de\ucda4\ub3cc\ubd04\uc11c\ube44\uc2a4 \uc81c\\n\uacf5(\uc7a5\uae30\uc694\uc591\ubcf4\ud5d8\uc815\ubcf4\uc81c\uacf5\uc11c \uc81c\ucd9c) \\n2. \uac00\uc0ac\u00b7\uac04\ubcd1 \ubc29\ubb38\uc9c0\uc6d0\uc0ac\uc5c5 \uc774\uc6a9\uc790 \\n3. \uad6d\uac00\ubcf4\ud6c8\ucc98 \ubcf4\ud6c8\uc7ac\uac00\ubcf5\uc9c0\uc11c\ube44\uc2a4 \uc774\uc6a9\uc790 \\n4. \uae30\ud0c0 \uc720\uc0ac \ub3cc\ubd04\uc11c\ube44\uc2a4 \uc774\uc6a9\uc790 \\no\\n\\n\uacf5(\uc7a5\uae30\uc694\uc591\ubcf4\ud5d8\uc815\ubcf4\uc81c\uacf5\uc11c \uc81c\ucd9c) \\n2. \uac00\uc0ac\u00b7\uac04\ubcd1 \ubc29\ubb38\uc9c0\uc6d0\uc0ac\uc5c5 \uc774\uc6a9\uc790 \\n3. \uad6d\uac00\ubcf4\ud6c8\ucc98 \ubcf4\ud6c8\uc7ac\uac00\ubcf5\uc9c0\uc11c\ube44\uc2a4 \uc774\uc6a9\uc790 \\n4. \uae30\ud0c0 \uc720\uc0ac \ub3cc\ubd04\uc11c\ube44\uc2a4 \uc774\uc6a9\uc790 \\no \\n\uae30\ud0c0 \uad6d\uac00 \ubc0f \uc9c0\ubc29\uc790\uce58\ub2e8\uccb4(\uc774\ud558 \u201c\uc9c0\uc790\uccb4\u201d)\uc5d0\uc11c \uc2dc\ud589\ud558\ub294 \uc11c\ube44\uc2a4 \uc911 \ub178\uc778\ub9de\\n\ucda4\ub3cc\ubd04\uc11c\ube44\uc2a4\uc640 \uc720\uc0ac\ud55c \uc7ac\uac00\uc11c\ube44\uc2a4 \\n\u203b \uc2dc\u00b7\uad70\u00b7\uad6c\ub294 \ud0c0 \uc0ac\uc5c5\uc758 \ud2b9\uc131, \uc2e4\uc81c\uc801 \uc81c\uacf5 \ub0b4\uc6a9 \ubc0f \ub3cc\ubd04 \ud544\uc694\uc131 \ub4f1\uc744 \uace0\ub824',\n",
              " 'question': '\uc548\ub155\ud558\uc138\uc694. \uc800\ud76c \uc5b4\uba38\ub2c8\uaed8\uc11c \ub9cc 65\uc138 \uc774\uc0c1\uc774\uc2dc\uace0, \uae30\ucd08\uc5f0\uae08\uc744 \ubc1b\uace0 \uacc4\uc2ed\ub2c8\ub2e4.\\n\ub610\ud55c, \ud604\uc7ac \ud63c\uc790 \uc9c0\ub0b4\uc2dc\uba70 \uac74\uac15\ub3c4 \ub9ce\uc774 \uc548 \uc88b\uc73c\uc2e0\ub370,\\n\ub178\uc778\ub9de\ucda4\ub3cc\ubd04\uc11c\ube44\uc2a4\ub97c \uc2e0\uccad\ud560 \uc218 \uc788\uc744\uae4c\uc694?',\n",
              " 'text': '\ub124, \ub178\uc778\ub9de\ucda4\ub3cc\ubd04\uc11c\ube44\uc2a4\ub97c \uc2e0\uccad\ud560 \uc218 \uc788\uc2b5\ub2c8\ub2e4. \uc11c\ube44\uc2a4 \uc2e0\uccad\uc790\uaca9\uc5d0 \ud574\ub2f9\ub418\ub294 65\uc138 \uc774\uc0c1 \uad6d\ubbfc\uae30\ucd08\uc0dd\ud65c\uc218\uae09\uc790, \ucc28\uc0c1\uc704\uacc4\uce35 \ub610\ub294 \uae30\ucd08\uc5f0\uae08\uc218\uae09\uc790\uc5d0 \ud574\ub2f9\ub418\uba70, \uc2dc\uc7a5\u00b7\uad70\uc218\u00b7\uad6c\uccad\uc7a5\uc774 \uc11c\ube44\uc2a4\uac00 \ud544\uc694\ud558\ub2e4\uace0 \uc778\uc815\ud558\ub294 \uacbd\uc6b0 \uc608\uc678\uc801\uc73c\ub85c \uc81c\uacf5 \uac00\ub2a5\ud569\ub2c8\ub2e4. \ub610\ud55c, \uc720\uc0ac\uc911\ubcf5\uc0ac\uc5c5 \uc790\uaca9 \ud574\ub2f9\uc790\uc5d0 \ud574\ub2f9\ub418\uc9c0 \uc54a\uc73c\ubbc0\ub85c \uc2e0\uccad\uc744 \uc9c4\ud589\ud558\uc2e4 \uc218 \uc788\uc2b5\ub2c8\ub2e4.'}"
            ]
          },
          "metadata": {},
          "execution_count": 30
        }
      ]
    },
    {
      "cell_type": "code",
      "source": [
        "question = (\n",
        "    \"\uc548\ub155\ud558\uc138\uc694. \uc800\ud76c \uc5b4\uba38\ub2c8\uaed8\uc11c \ub9cc 65\uc138 \uc774\uc0c1\uc774\uc2dc\uace0, \"\n",
        "    \"\uae30\ucd08\uc5f0\uae08\uc744 \ubc1b\uace0 \uacc4\uc2ed\ub2c8\ub2e4.\\n\"\n",
        "    \"\ub610\ud55c, \ud604\uc7ac \ud63c\uc790 \uc9c0\ub0b4\uc2dc\uba70 \uac74\uac15\ub3c4 \ub9ce\uc774 \uc548 \uc88b\uc73c\uc2e0\ub370,\\n\"\n",
        "    \"\ub178\uc778\ub9de\ucda4\ub3cc\ubd04\uc11c\ube44\uc2a4\ub97c \uc2e0\uccad\ud560 \uc218 \uc788\uc744\uae4c\uc694?\"\n",
        ")\n",
        "response = qa_chain.invoke({\"context\": context, \"question\": question})\n",
        "response"
      ],
      "metadata": {
        "id": "A0sfBG5IUt68",
        "colab": {
          "base_uri": "https://localhost:8080/",
          "height": 54
        },
        "executionInfo": {
          "status": "ok",
          "timestamp": 1748354874962,
          "user_tz": -540,
          "elapsed": 1823,
          "user": {
            "displayName": "\uc784\uc740\uc11d",
            "userId": "11880229837910021675"
          }
        },
        "outputId": "3a6344be-860a-4375-f493-ae58c6537972"
      },
      "execution_count": null,
      "outputs": [
        {
          "output_type": "execute_result",
          "data": {
            "text/plain": [
              "'\uc548\ub155\ud558\uc138\uc694. \uc0ac\uc6a9\uc790\ub2d8\uc758 \uc5b4\uba38\ub2c8\uaed8\uc11c\ub294 \ub178\uc778\ub9de\ucda4\ub3cc\ubd04\uc11c\ube44\uc2a4\ub97c \uc2e0\uccad\ud558\uc2e4 \uc218 \uc788\uc2b5\ub2c8\ub2e4. \uadf8 \uc774\uc720\ub294 65\uc138 \uc774\uc0c1\uc774\uba70 \uae30\ucd08\uc5f0\uae08 \uc218\uae09\uc790 \uc790\uaca9\uc5d0 \ud574\ub2f9\ub418\uae30 \ub54c\ubb38\uc785\ub2c8\ub2e4. \ub610\ud55c, \ud63c\uc790 \uc9c0\ub0b4\uc2dc\uba70 \uac74\uac15\uc774 \uc88b\uc9c0 \uc54a\uc73c\uc2e0 \uc0c1\ud669\uc73c\ub85c \ubcf4\uc544 \uc11c\ube44\uc2a4 \uc81c\uacf5\uc774 \ud544\uc694\ud55c \uc0c1\ud669\uc73c\ub85c \ud310\ub2e8\ub429\ub2c8\ub2e4. \ub2e4\ub9cc, \uc11c\ube44\uc2a4 \uc2e0\uccad\uc744 \uc704\ud574\uc11c\ub294 \uc5b4\uba38\ub2c8 \ub610\ub294 \uac00\uc871 \ub4f1\uc774 \uc74d\u00b7\uba74\u00b7\ub3d9 \ud589\uc815\ubcf5\uc9c0\uc13c\ud130\ub97c \ubc29\ubb38\ud558\uc5ec \uc2e0\uccad\ud558\uc154\uc57c \ud569\ub2c8\ub2e4.'"
            ],
            "application/vnd.google.colaboratory.intrinsic+json": {
              "type": "string"
            }
          },
          "metadata": {},
          "execution_count": 33
        }
      ]
    },
    {
      "cell_type": "code",
      "source": [
        "# \uc0ac\uc6a9\uc790 \uc9c8\ubb38\n",
        "question2 = \"\ub09c 1959\ub144\uc0dd\uc774\uace0, \ucc28\uc0c1\uc704\uacc4\uce35\uc73c\ub85c \uac00\uc0ac\u00b7\uac04\ubcd1 \ubc29\ubb38\uc9c0\uc6d0\uc0ac\uc5c5 \uc774\uc6a9\uc790\uc57c. \ub178\uc778\ub9de\ucda4\ub3cc\ubd04\uc11c\ube44\uc2a4\ub97c \uc2e0\uccad\ud558\uace0 \uc2f6\uc5b4\"\n",
        "\n",
        "# \uad00\ub828 \ubb38\uc11c \uac80\uc0c9\n",
        "docs = retriever.invoke(question)\n",
        "\n",
        "# \ubb38\uc11c \ub0b4\uc6a9\uc744 \ud558\ub098\ub85c \ud569\uce68\n",
        "context = \"\\n\\n\".join([doc.page_content for doc in docs])\n",
        "\n",
        "# LLMChain \uc2e4\ud589\n",
        "new_response = qa_chain.invoke({\"context\": context, \"question\": question2})\n",
        "\n",
        "new_response"
      ],
      "metadata": {
        "colab": {
          "base_uri": "https://localhost:8080/",
          "height": 72
        },
        "id": "ySILSpnSdTn4",
        "executionInfo": {
          "status": "ok",
          "timestamp": 1748352935567,
          "user_tz": -540,
          "elapsed": 2338,
          "user": {
            "displayName": "\uc784\uc740\uc11d",
            "userId": "11880229837910021675"
          }
        },
        "outputId": "fe270be6-66c3-4ddc-c96e-038a20214564"
      },
      "execution_count": null,
      "outputs": [
        {
          "output_type": "execute_result",
          "data": {
            "text/plain": [
              "'\uc0ac\uc6a9\uc790\ub294 1959\ub144\uc0dd\uc73c\ub85c \ucc28\uc0c1\uc704\uacc4\uce35\uc5d0 \ud574\ub2f9\ub418\uba70 \uac00\uc0ac\u00b7\uac04\ubcd1 \ubc29\ubb38\uc9c0\uc6d0\uc0ac\uc5c5 \uc774\uc6a9\uc790\uc785\ub2c8\ub2e4. \ub178\uc778\ub9de\ucda4\ub3cc\ubd04\uc11c\ube44\uc2a4\uc758 \uc11c\ube44\uc2a4 \uc2e0\uccad\uc790\uaca9\uc740 65\uc138 \uc774\uc0c1 \uad6d\ubbfc\uae30\ucd08\uc0dd\ud65c\uc218\uae09\uc790, \ucc28\uc0c1\uc704\uacc4\uce35 \ub610\ub294 \uae30\ucd08\uc5f0\uae08\uc218\uae09\uc790\ub85c\uc11c \uc720\uc0ac\uc911\ubcf5\uc0ac\uc5c5 \uc790\uaca9\uc5d0 \ud574\ub2f9\ub418\uc9c0 \uc54a\ub294 \uc790\uc785\ub2c8\ub2e4. \uadf8\ub7ec\ub098 \uc608\uc678\uc801\uc73c\ub85c \uc2dc\uc7a5\u00b7\uad70\uc218\u00b7\uad6c\uccad\uc7a5\uc774 \uc11c\ube44\uc2a4\uac00 \ud544\uc694\ud558\ub2e4\uace0 \uc778\uc815\ud558\ub294 \uacbd\uc6b0 \uc81c\uacf5\uc774 \uac00\ub2a5\ud569\ub2c8\ub2e4. \uac00\uc0ac\u00b7\uac04\ubcd1 \ubc29\ubb38\uc9c0\uc6d0\uc0ac\uc5c5 \uc774\uc6a9\uc790\ub294 \ub178\uc778\ub9de\ucda4\ub3cc\ubd04\uc11c\ube44\uc2a4\uc758 \uc720\uc0ac\uc911\ubcf5\uc0ac\uc5c5 \uc790\uaca9 \ud574\ub2f9\uc790\uc5d0 \uc18d\ud569\ub2c8\ub2e4. \ub530\ub77c\uc11c \uc0ac\uc6a9\uc790\uac00 \ub178\uc778\ub9de\ucda4\ub3cc\ubd04\uc11c\ube44\uc2a4\ub97c \uc2e0\uccad\ud558\ub824\uba74 \uc2dc\uc7a5\u00b7\uad70\uc218\u00b7\uad6c\uccad\uc7a5\uc774 \uc11c\ube44\uc2a4\uac00 \ud544\uc694\ud558\ub2e4\uace0 \uc778\uc815\ud574\uc57c \ud569\ub2c8\ub2e4.'"
            ],
            "application/vnd.google.colaboratory.intrinsic+json": {
              "type": "string"
            }
          },
          "metadata": {},
          "execution_count": 20
        }
      ]
    },
    {
      "cell_type": "code",
      "source": [
        "# \uc0ac\uc6a9\uc790 \uc9c8\ubb38\n",
        "question3 = \"\ub09c 1962\ub144\uc0dd\uc774\uace0, \ucc28\uc0c1\uc704\uacc4\uce35\uc774\uc57c. \ub178\uc778\ub9de\ucda4\ub3cc\ubd04\uc11c\ube44\uc2a4\ub97c \uc2e0\uccad\ud558\uace0 \uc2f6\uc5b4\"\n",
        "\n",
        "# \uad00\ub828 \ubb38\uc11c \uac80\uc0c9\n",
        "docs = retriever.invoke(question)\n",
        "\n",
        "# \ubb38\uc11c \ub0b4\uc6a9\uc744 \ud558\ub098\ub85c \ud569\uce68\n",
        "context = \"\\n\\n\".join([doc.page_content for doc in docs])\n",
        "\n",
        "# LLMChain \uc2e4\ud589\n",
        "new_response = qa_chain.invoke({\"context\": context, \"question\": question3})\n",
        "\n",
        "new_response"
      ],
      "metadata": {
        "colab": {
          "base_uri": "https://localhost:8080/",
          "height": 36
        },
        "id": "hIXYkWiMexyl",
        "executionInfo": {
          "status": "ok",
          "timestamp": 1748352939668,
          "user_tz": -540,
          "elapsed": 1509,
          "user": {
            "displayName": "\uc784\uc740\uc11d",
            "userId": "11880229837910021675"
          }
        },
        "outputId": "6cbe6485-1643-4f94-8056-e1a773a23cc9"
      },
      "execution_count": null,
      "outputs": [
        {
          "output_type": "execute_result",
          "data": {
            "text/plain": [
              "'\ub178\uc778\ub9de\ucda4\ub3cc\ubd04\uc11c\ube44\uc2a4\ub97c \uc2e0\uccad\ud560 \uc218 \uc788\uc2b5\ub2c8\ub2e4. \uc11c\ube44\uc2a4 \uc2e0\uccad \uc790\uaca9\uc5d0 \ub530\ub974\uba74, 65\uc138 \uc774\uc0c1 \ucc28\uc0c1\uc704\uacc4\uce35\uc774 \uc11c\ube44\uc2a4 \ub300\uc0c1\uc5d0 \ud574\ub2f9\ub418\uae30 \ub54c\ubb38\uc785\ub2c8\ub2e4. \uc11c\ube44\uc2a4\ub294 \uc74d\u00b7\uba74\u00b7\ub3d9 \ud589\uc815\ubcf5\uc9c0\uc13c\ud130\ub97c \ubc29\ubb38\ud558\uc5ec \uc2e0\uccad\ud560 \uc218 \uc788\uc2b5\ub2c8\ub2e4.'"
            ],
            "application/vnd.google.colaboratory.intrinsic+json": {
              "type": "string"
            }
          },
          "metadata": {},
          "execution_count": 21
        }
      ]
    },
    {
      "cell_type": "code",
      "source": [
        "# \uc0ac\uc6a9\uc790 \uc9c8\ubb38\n",
        "question4 = \"\ub09c 1963\ub144\uc0dd\uc774\uace0 \ub178\uc778\ub9de\ucda4\ub3cc\ubd04\uc11c\ube44\uc2a4\ub97c \uc2e0\uccad\ud558\uace0 \uc2f6\uc5b4.\" # SolarAPI\ub294 2023\ub144\uc744 \uae30\uc900\uc73c\ub85c \uacc4\uc0b0\ud558\ub294\ub4ef\ud568.\n",
        "\n",
        "# \uad00\ub828 \ubb38\uc11c \uac80\uc0c9\n",
        "docs = retriever.invoke(question)\n",
        "\n",
        "# \ubb38\uc11c \ub0b4\uc6a9\uc744 \ud558\ub098\ub85c \ud569\uce68\n",
        "context = \"\\n\\n\".join([doc.page_content for doc in docs])\n",
        "\n",
        "# LLMChain \uc2e4\ud589\n",
        "new_response = qa_chain.invoke({\"context\": context, \"question\": question4})\n",
        "\n",
        "new_response"
      ],
      "metadata": {
        "colab": {
          "base_uri": "https://localhost:8080/",
          "height": 54
        },
        "id": "XVGulgp2niIu",
        "executionInfo": {
          "status": "ok",
          "timestamp": 1748352944654,
          "user_tz": -540,
          "elapsed": 2246,
          "user": {
            "displayName": "\uc784\uc740\uc11d",
            "userId": "11880229837910021675"
          }
        },
        "outputId": "160a7f3e-33af-4c99-ed6a-c788ff9f1211"
      },
      "execution_count": null,
      "outputs": [
        {
          "output_type": "execute_result",
          "data": {
            "text/plain": [
              "'\ub178\uc778\ub9de\ucda4\ub3cc\ubd04\uc11c\ube44\uc2a4\ub97c \uc2e0\uccad\ud558\ub824\uba74 65\uc138 \uc774\uc0c1 \uad6d\ubbfc\uae30\ucd08\uc0dd\ud65c\uc218\uae09\uc790, \ucc28\uc0c1\uc704\uacc4\uce35 \ub610\ub294 \uae30\ucd08\uc5f0\uae08\uc218\uae09\uc790 \uc790\uaca9\uc5d0 \ud574\ub2f9\ub418\uc5b4\uc57c \ud569\ub2c8\ub2e4. \uadf8\ub7ec\ub098 1963\ub144\uc0dd\uc774\uc2dc\ub77c\uba74 \uc62c\ud574 \ub9cc 60\uc138\uc774\uc2dc\ubbc0\ub85c, \ud604\uc7ac \ub178\uc778\ub9de\ucda4\ub3cc\ubd04\uc11c\ube44\uc2a4 \uc2e0\uccad\uc790\uaca9\uc5d0 \ud574\ub2f9\ub418\uc9c0 \uc54a\uc2b5\ub2c8\ub2e4. \uc11c\ube44\uc2a4 \uc2e0\uccad\uc790\uaca9\uc744 \uac16\ucd94\uae30 \uc704\ud574\uc11c\ub294 5\ub144\uc774 \uc9c0\ub098\uc57c \ud569\ub2c8\ub2e4.'"
            ],
            "application/vnd.google.colaboratory.intrinsic+json": {
              "type": "string"
            }
          },
          "metadata": {},
          "execution_count": 22
        }
      ]
    },
    {
      "cell_type": "code",
      "source": [
        "# \uc0ac\uc6a9\uc790 \uc9c8\ubb38\n",
        "question5 = \"\ub09c 1959\ub144\uc0dd\uc774\uace0 \uae30\ucd08\uc5f0\uae08\uc744 \ubc1b\uace0 \uc788\uc5b4. \uc7a5\uae30\uc694\uc591 \ub4f1\uae09 \uc720\ud6a8\uae30\uac04\uc774 \ub9cc\ub8cc\ub418\uc5c8\ub294\ub370 \ub178\uc778\ub9de\ucda4\ub3cc\ubd04\uc11c\ube44\uc2a4\ub97c \uc2e0\uccad\ud560 \uc218 \uc788\uc5b4?\"\n",
        "\n",
        "# \uad00\ub828 \ubb38\uc11c \uac80\uc0c9\n",
        "docs = retriever.invoke(question)\n",
        "\n",
        "# \ubb38\uc11c \ub0b4\uc6a9\uc744 \ud558\ub098\ub85c \ud569\uce68\n",
        "context = \"\\n\\n\".join([doc.page_content for doc in docs])\n",
        "\n",
        "# LLMChain \uc2e4\ud589\n",
        "new_response = qa_chain.invoke({\"context\": context, \"question\": question5})\n",
        "\n",
        "new_response"
      ],
      "metadata": {
        "colab": {
          "base_uri": "https://localhost:8080/",
          "height": 72
        },
        "id": "5MjXLLaFoH0c",
        "executionInfo": {
          "status": "ok",
          "timestamp": 1748352949159,
          "user_tz": -540,
          "elapsed": 2601,
          "user": {
            "displayName": "\uc784\uc740\uc11d",
            "userId": "11880229837910021675"
          }
        },
        "outputId": "15f488a5-fcb2-463a-d478-4783c185d664"
      },
      "execution_count": null,
      "outputs": [
        {
          "output_type": "execute_result",
          "data": {
            "text/plain": [
              "'\uc608, \ub178\uc778\ub9de\ucda4\ub3cc\ubd04\uc11c\ube44\uc2a4\ub97c \uc2e0\uccad\ud560 \uc218 \uc788\uc2b5\ub2c8\ub2e4. \ubb38\uc11c\uc5d0 \ub530\ub974\uba74, \uc7a5\uae30\uc694\uc591 \ub4f1\uae09 \uc720\ud6a8\uae30\uac04 \ub9cc\ub8cc\uc790\ub3c4 \ub178\uc778\ub9de\ucda4\ub3cc\ubd04\uc11c\ube44\uc2a4\ub97c \uc2e0\uccad\ud560 \uc218 \uc788\uc2b5\ub2c8\ub2e4. \ub2e8, \uc2e0\uccad \uac00\ub2a5\ud558\uace0 \ub178\uc778\uc7a5\uae30\uc694\uc591\ubcf4\ud5d8 \ub4f1\uae09 \uace0\uc9c0\uac00 \uc694\uccad\ub418\uba70, \uc2dc\uc7a5\u00b7\uad70\uc218\u00b7\uad6c\uccad\uc7a5\uc774 \uc11c\ube44\uc2a4\uac00 \ud544\uc694\ud558\ub2e4\uace0 \uc778\uc815\ud558\ub294 \uacbd\uc6b0\uc5d0 \uc608\uc678\uc801\uc73c\ub85c \uc2e0\uccad\uc774 \uac00\ub2a5\ud569\ub2c8\ub2e4. \ub610\ud55c, \uc2e0\uccad \ub2f9\uc2dc \ubcf8\uc778 \uc9c8\ubcd1\uc774\ub098 \uc0ac\uc720 \ub4f1\uc73c\ub85c \uc7a5\uae30\uc694\uc591 \uc2e0\uccad\uc774 \uc5b4\ub824\uc6b4 \uacbd\uc6b0, \ud574\ub2f9 \uc0ac\uc720\ub97c \uae30\uc7ac\ud55c \uc7a5\uae30\uc694\uc591\uc815\ubcf4\uc81c\uacf5\uc2e0\uccad\uc11c\ub97c \ud1b5\ud574 \ud655\uc778 \uc2dc \ub178\uc778\ub9de\ucda4\ub3cc\ubd04\uc11c\ube44\uc2a4\ub97c \uc81c\uacf5\ubc1b\uc744 \uc218 \uc788\uc2b5\ub2c8\ub2e4.'"
            ],
            "application/vnd.google.colaboratory.intrinsic+json": {
              "type": "string"
            }
          },
          "metadata": {},
          "execution_count": 23
        }
      ]
    },
    {
      "cell_type": "code",
      "source": [
        "# \uc74c\uc131\ubc29\uc5b8 - \ud63c\uc800\uc635\uc11c\uc608. \uc6b0\ub9ac \uc5b4\uba4d\uc774 \uc774\uc2dc\ubbfc \ub9cc \uc608\uc21c\ub2e4\uc12f \uc0b4 \ud6e8\uc52c \ub118\uc73c\uc2dc\uace0, \uae30\ucd08\uc5f0\uae08\ub3c4 \ubc1b\uc5c9 \uacc4\uc2ed\ub514\ub2e4. \ud63c\uc790 \uc0b4\uc554\uc2e0\ub514 \ubab8\ub3c4 \uc548 \uc88b\uc544\uc2e0\uac8c, \ub178\uc778\ub9de\ucda4\ub3cc\ubd04\uc11c\ube44\uc2a4 \uc880 \uc2e0\uccad\ud5c8\uba4d \ubc1b\uc559\ubcfc \uc218 \uc788\uc744\uae4c\uc694?\n",
        "# STT - \ud63c\uc790 \uc5c6\uc5b4\uc608 \uc6b0\ub9ac \uc5b4\uba4d\uc774 \uc774\uc2ed\uc778 \ub9cc \uc608\uc21c\ub2e4\uc12f \uc0b4 \ud6e8\uc52c \ub118\uc73c\uc2dc\uace0 \uae30\ucd08\uc5f0\uae08\ub3c4 \ubc1b\uc740 \uac8c \uc27d\ub514\ub2e4. \ud63c\uc790 \uc0b4\uc558\uc740\ub514 \ubab8\ub3c4 \uc548 \uc88b\uc544\uc9c0\uc2e0 \uac8c \ub178\uc778\ub9de\ucda4 \ub3cc\ubd04 \uc11c\ube44\uc2a4\ub97c \uc880 \uc2e0\uccad\uc5b4\uba4d \ubc1b\uc544\ubcfc \uc218 \uc788\uc744\uae4c\uc694\n",
        "\n",
        "nlp_trans = \"\uc800 \ud63c\uc790 \uc0b4\uace0 \uc788\uc5b4\uc694. \uc800\ud76c \uc5b4\uba38\ub2c8\ub294 \uc608\uc21c\ub2e4\uc12f \uc0b4\uc774 \ud6e8\uc52c \ub118\uc73c\uc168\uace0, \uae30\ucd08\uc5f0\uae08\ub3c4 \ubc1b\uace0 \uacc4\uc138\uc694. \ud63c\uc790 \uc9c0\ub0b4\uc168\ub294\ub370 \uac74\uac15\ub3c4 \uc548 \uc88b\uc544\uc9c0\uc154\uc11c, \ub178\uc778\ub9de\ucda4 \ub3cc\ubd04 \uc11c\ube44\uc2a4\ub97c \uc2e0\uccad\ud574\uc11c \ubc1b\uc744 \uc218 \uc788\uc744\uae4c\uc694?\"\n",
        "\n",
        "# \uad00\ub828 \ubb38\uc11c \uac80\uc0c9\n",
        "docs = retriever.invoke(question)\n",
        "\n",
        "# \ubb38\uc11c \ub0b4\uc6a9\uc744 \ud558\ub098\ub85c \ud569\uce68\n",
        "context = \"\\n\\n\".join([doc.page_content for doc in docs])\n",
        "\n",
        "# LLMChain \uc2e4\ud589\n",
        "response = qa_chain.invoke({\"context\": context, \"question\": nlp_trans})\n",
        "\n",
        "response"
      ],
      "metadata": {
        "colab": {
          "base_uri": "https://localhost:8080/",
          "height": 89
        },
        "id": "r-alOjvy4xq_",
        "executionInfo": {
          "status": "ok",
          "timestamp": 1748353064119,
          "user_tz": -540,
          "elapsed": 3533,
          "user": {
            "displayName": "\uc784\uc740\uc11d",
            "userId": "11880229837910021675"
          }
        },
        "outputId": "7f4655f5-2670-4697-a95f-25553aa86bf0"
      },
      "execution_count": null,
      "outputs": [
        {
          "output_type": "execute_result",
          "data": {
            "text/plain": [
              "'\ubb38\uc11c\uc5d0 \ub530\ub974\uba74, \ub178\uc778\ub9de\ucda4\ub3cc\ubd04\uc11c\ube44\uc2a4\uc758 \uc2e0\uccad\uc790\uaca9\uc740 65\uc138 \uc774\uc0c1 \uad6d\ubbfc\uae30\ucd08\uc0dd\ud65c\uc218\uae09\uc790, \ucc28\uc0c1\uc704\uacc4\uce35 \ub610\ub294 \uae30\ucd08\uc5f0\uae08\uc218\uae09\uc790\ub85c\uc11c \uc720\uc0ac\uc911\ubcf5\uc0ac\uc5c5 \uc790\uaca9\uc5d0 \ud574\ub2f9\ub418\uc9c0 \uc54a\ub294 \uc790\uc785\ub2c8\ub2e4. \ub2e8, \uc2dc\uc7a5\u00b7\uad70\uc218\u00b7\uad6c\uccad\uc7a5\uc774 \uc11c\ube44\uc2a4\uac00 \ud544\uc694\ud558\ub2e4\uace0 \uc778\uc815\ud558\ub294 \uacbd\uc6b0 \uc608\uc678\uc801\uc73c\ub85c \uc81c\uacf5\uc774 \uac00\ub2a5\ud569\ub2c8\ub2e4. \\n\\n\uc9c8\ubb38\uc790\uc758 \uc5b4\uba38\ub2c8\ub294 65\uc138 \uc774\uc0c1\uc774\uba70 \uae30\ucd08\uc5f0\uae08\uc744 \ubc1b\uace0 \uacc4\uc2dc\uc9c0\ub9cc, \ubb38\uc11c\uc5d0 \ub530\ub974\uba74 \uae30\ucd08\uc5f0\uae08\uc218\uae09\uc790 \uc911 \uc720\uc0ac\uc911\ubcf5\uc0ac\uc5c5 \uc790\uaca9 \ud574\ub2f9\uc790\uac00 \uc544\ub2cc \uacbd\uc6b0\uc5d0 \uc11c\ube44\uc2a4\uac00 \uc81c\uacf5\ub429\ub2c8\ub2e4. \uc9c8\ubb38\uc790\uc758 \uc5b4\uba38\ub2c8\uac00 \ub2e4\ub978 \uc720\uc0ac\uc911\ubcf5\uc0ac\uc5c5(\uc7a5\uae30\uc694\uc591, \uac00\uc0ac\u00b7\uac04\ubcd1 \ubc29\ubb38\uc9c0\uc6d0, \ubcf4\ud6c8\uc7ac\uac00\ubcf5\uc9c0\uc11c\ube44\uc2a4 \ub4f1)\uc744 \uc774\uc6a9 \uc911\uc774\uc9c0 \uc54a\ub2e4\uba74, \uac74\uac15 \uc0c1\ud0dc\uac00 \uc11c\ube44\uc2a4 \ud544\uc694\uc131\uc73c\ub85c \uc778\uc815\ub420 \uacbd\uc6b0 \ub178\uc778\ub9de\ucda4\ub3cc\ubd04\uc11c\ube44\uc2a4\ub97c \ubc1b\uc744 \uc218 \uc788\uc744 \uac00\ub2a5\uc131\uc774 \uc788\uc2b5\ub2c8\ub2e4. \\n\\n\ucd5c\uc885\uc801\uc778 \uc11c\ube44\uc2a4 \uc81c\uacf5 \uc5ec\ubd80\ub294 \uc2dc\uc7a5\u00b7\uad70\uc218\u00b7\uad6c\uccad\uc7a5\uc774 \uacb0\uc815\ud558\ubbc0\ub85c, \uc790\uc138\ud55c \uc0ac\ud56d\uc740 \ud574\ub2f9 \uc9c0\uc5ed\uc758 \ud589\uc815\ubcf5\uc9c0\uc13c\ud130\uc5d0 \ubb38\uc758\ud558\uc5ec \uc0c1\ub2f4\uc744 \ubc1b\uc544\ubcf4\uc2dc\ub294 \uac83\uc774 \uc88b\uc2b5\ub2c8\ub2e4.'"
            ],
            "application/vnd.google.colaboratory.intrinsic+json": {
              "type": "string"
            }
          },
          "metadata": {},
          "execution_count": 29
        }
      ]
    },
    {
      "cell_type": "code",
      "source": [
        "# \uc74c\uc131\ubc29\uc5b8 - \ud63c\uc800\uc635\uc11c\uc608. \uc6b0\ub9ac \uc5b4\uba4d\uc774 \uc774\uc2dc\ubbfc \ub9cc \uc608\uc21c\ub2e4\uc12f \uc0b4 \ud6e8\uc52c \ub118\uc73c\uc2dc\uace0, \uae30\ucd08\uc5f0\uae08\ub3c4 \ubc1b\uc5c9 \uacc4\uc2ed\ub514\ub2e4. \ud63c\uc790 \uc0b4\uc554\uc2e0\ub514 \ubab8\ub3c4 \uc548 \uc88b\uc544\uc2e0\uac8c, \ub178\uc778\ub9de\ucda4\ub3cc\ubd04\uc11c\ube44\uc2a4 \uc880 \uc2e0\uccad\ud5c8\uba4d \ubc1b\uc559\ubcfc \uc218 \uc788\uc744\uae4c\uc694?\n",
        "# STT - \ud63c\uc790 \uc5c6\uc5b4\uc608 \uc6b0\ub9ac \uc5b4\uba4d\uc774 \uc774\uc2ed\uc778 \ub9cc \uc608\uc21c\ub2e4\uc12f \uc0b4 \ud6e8\uc52c \ub118\uc73c\uc2dc\uace0 \uae30\ucd08\uc5f0\uae08\ub3c4 \ubc1b\uc740 \uac8c \uc27d\ub514\ub2e4. \ud63c\uc790 \uc0b4\uc558\uc740\ub514 \ubab8\ub3c4 \uc548 \uc88b\uc544\uc9c0\uc2e0 \uac8c \ub178\uc778\ub9de\ucda4 \ub3cc\ubd04 \uc11c\ube44\uc2a4\ub97c \uc880 \uc2e0\uccad\uc5b4\uba4d \ubc1b\uc544\ubcfc \uc218 \uc788\uc744\uae4c\uc694\n",
        "\n",
        "nlp_trans = \"\uc800 \ud63c\uc790 \uc0b4\uace0 \uc788\uc5b4\uc694. \uc800\ud76c \uc5b4\uba38\ub2c8\ub294 \uc608\uc21c\ub2e4\uc12f \uc0b4\uc774 \ud6e8\uc52c \ub118\uc73c\uc168\uace0, \uae30\ucd08\uc5f0\uae08\ub3c4 \ubc1b\uace0 \uacc4\uc138\uc694. \ud63c\uc790 \uc9c0\ub0b4\uc168\ub294\ub370 \uac74\uac15\ub3c4 \uc548 \uc88b\uc544\uc9c0\uc154\uc11c, \ub178\uc778\ub9de\ucda4 \ub3cc\ubd04 \uc11c\ube44\uc2a4\ub97c \uc2e0\uccad\ud574\uc11c \ubc1b\uc744 \uc218 \uc788\uc744\uae4c\uc694?\"\n",
        "\n",
        "# \uad00\ub828 \ubb38\uc11c \uac80\uc0c9\n",
        "docs = retriever.invoke(question)\n",
        "\n",
        "# \ubb38\uc11c \ub0b4\uc6a9\uc744 \ud558\ub098\ub85c \ud569\uce68\n",
        "context = \"\\n\\n\".join([doc.page_content for doc in docs])\n",
        "\n",
        "# LLMChain \uc2e4\ud589\n",
        "response = qa_chain.invoke({\"context\": context, \"question\": nlp_trans})\n",
        "\n",
        "response"
      ],
      "metadata": {
        "id": "SrfOD_sI5AwD"
      },
      "execution_count": null,
      "outputs": []
    }
  ]
}